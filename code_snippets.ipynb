{
  "nbformat": 4,
  "nbformat_minor": 0,
  "metadata": {
    "colab": {
      "private_outputs": true,
      "provenance": [],
      "authorship_tag": "ABX9TyMix+GgjF3mjW47XuVV2Su2",
      "include_colab_link": true
    },
    "kernelspec": {
      "name": "python3",
      "display_name": "Python 3"
    },
    "language_info": {
      "name": "python"
    }
  },
  "cells": [
    {
      "cell_type": "markdown",
      "metadata": {
        "id": "view-in-github",
        "colab_type": "text"
      },
      "source": [
        "<a href=\"https://colab.research.google.com/github/aai510-group1/project/blob/main/code_snippets.ipynb\" target=\"_parent\"><img src=\"https://colab.research.google.com/assets/colab-badge.svg\" alt=\"Open In Colab\"/></a>"
      ]
    },
    {
      "cell_type": "code",
      "source": [
        "# @title Create a Folder in Google Drive and Enable Top-Level Access in the File Browser { display-mode: \"form\" }\n",
        "def setup_drive_folder(google_drive_folder):\n",
        "    import contextlib, google.colab, os, pathlib\n",
        "    if not google_drive_folder:\n",
        "        google_drive_folder = \"temp\"\n",
        "    with contextlib.redirect_stdout(open(os.devnull, 'w')):\n",
        "        google.colab.drive.mount(\"/content/drive\", force_remount=True)\n",
        "    drive_path = pathlib.Path(\"/content/drive/MyDrive\")\n",
        "    colab_notebooks_path = drive_path / \"Colab Notebooks\"\n",
        "    project_path = colab_notebooks_path / google_drive_folder\n",
        "    project_path.mkdir(parents=True, exist_ok=True)\n",
        "    shortcut = pathlib.Path(f\"/content/{google_drive_folder}\")\n",
        "    shortcut.parent.mkdir(parents=True, exist_ok=True)\n",
        "    if not shortcut.exists():\n",
        "        shortcut.symlink_to(project_path)\n",
        "    print(f\"SHORTCUT: {shortcut} --> {project_path}\")\n",
        "    return str(shortcut)\n",
        "\n",
        "google_drive_folder = \"aai510-group1\"  # @param { type: \"string\" }\n",
        "SHORTCUT = setup_drive_folder(google_drive_folder)"
      ],
      "metadata": {
        "id": "VvJ5VJ9EAOjV"
      },
      "execution_count": null,
      "outputs": []
    },
    {
      "cell_type": "code",
      "source": [
        "# @title USE uv FOR FASTER PIP INSTALLS\n",
        "%pip install --quiet --progress-bar=off uv\n",
        "\n",
        "# EXAMPLE USAGE\n",
        "# !uv pip uninstall --system --quiet bokeh mkl\n",
        "# !uv pip install --system --quiet --upgrade pip\n",
        "# !uv pip install --system --quiet --upgrade black[jupyter] bokeh datasets isort pygraphviz setuptools wheel\n",
        "# !uv pip install --system --quiet autogluon numpy==1.24.4 shap"
      ],
      "metadata": {
        "id": "BFPWFmtf-9pl"
      },
      "execution_count": null,
      "outputs": []
    },
    {
      "cell_type": "code",
      "source": [
        "# @title AutoML: Install `autogluon` (https://auto.gluon.ai/)\n",
        "%pip install --quiet --progress-bar=off uv\n",
        "!uv pip uninstall --system --quiet bokeh mkl\n",
        "!uv pip install --system --quiet --upgrade pip\n",
        "!uv pip install --system --quiet --upgrade bokeh pygraphviz setuptools wheel\n",
        "!uv pip install --system --quiet autogluon numpy==1.24.4"
      ],
      "metadata": {
        "id": "2NEd1Ccm_TrB"
      },
      "execution_count": null,
      "outputs": []
    },
    {
      "cell_type": "code",
      "execution_count": null,
      "metadata": {
        "id": "zsDfZfTJxaqV"
      },
      "outputs": [],
      "source": [
        "# @title Load Merged Telco Customer Dataset\n",
        "%pip install --quiet --progress-bar=off uv\n",
        "!uv pip install --system --upgrade --quiet datasets\n",
        "from datasets import load_dataset\n",
        "dataset = load_dataset('aai510-group1/telco-customer-churn', token=False)\n",
        "df_train = dataset['train'].to_pandas()\n",
        "df_test = dataset['test'].to_pandas()\n",
        "df_val = dataset['validation'].to_pandas()"
      ]
    },
    {
      "cell_type": "code",
      "source": [
        "# @title Convert Colab Notebook to PDF {display-mode:'form'}\n",
        "def colab2pdf():\n",
        "    # Colab2PDF by Drengskapur (https://github.com/drengskapur/colab2pdf)\n",
        "    # VERSION 1.4\n",
        "    # LICENSE: GPL-3.0-or-later\n",
        "    !apt-get install -yqq --no-install-recommends librsvg2-bin>/dev/null\n",
        "    import contextlib,datetime,google,io,IPython,ipywidgets,json,locale,nbformat,os,pathlib,requests,urllib,warnings,werkzeug,yaml;locale.setlocale(locale.LC_ALL,'en_US.UTF-8')\n",
        "    def convert(b):\n",
        "        try:\n",
        "            s.value='⚙️ Converting...';b.disabled=True;get_ipython().events.register('post_execute',lambda:IPython.display.display(IPython.display.Javascript('document.querySelectorAll(\"#output-footer\").forEach(footer=>footer.remove());')))\n",
        "            n=pathlib.Path(werkzeug.utils.secure_filename(urllib.parse.unquote(requests.get(f'http://{os.environ[\"COLAB_JUPYTER_IP\"]}:{os.environ[\"KMP_TARGET_PORT\"]}/api/sessions').json()[0]['name'])))\n",
        "            p=pathlib.Path('/content/pdfs')/f'{datetime.datetime.now().strftime(\"%Y%m%d_%H%M%S\")}_{n.stem}';p.mkdir(parents=True,exist_ok=True);warnings.filterwarnings('ignore',category=nbformat.validator.MissingIDFieldWarning)\n",
        "            nb=[cell for cell in nbformat.reads(json.dumps(google.colab._message.blocking_request('get_ipynb',timeout_sec=600)['ipynb']),as_version=4).cells if '--Colab2PDF' not in cell.source]\n",
        "            with (p/f'{n.stem}.ipynb').open('w',encoding='utf-8') as cp:nbformat.write(nbformat.v4.new_notebook(cells=nb or [nbformat.v4.new_code_cell('#')]),cp)\n",
        "            with (p/'config.yml').open('w',encoding='utf-8') as f:yaml.dump({'include-in-header':[{'text':r'\\usepackage{fvextra}\\DefineVerbatimEnvironment{Highlighting}{Verbatim}{breaksymbolleft={},showspaces=false,showtabs=false,breaklines,breakanywhere,commandchars=\\\\\\{\\}}'}],'include-before-body':[{'text':r'\\DefineVerbatimEnvironment{verbatim}{Verbatim}{breaksymbolleft={},showspaces=false,showtabs=false,breaklines}'}]},f)\n",
        "            !quarto render {p}/{n.stem}.ipynb --metadata-file={p}/config.yml --to pdf -M latex-auto-install -M margin-top=1in -M margin-bottom=1in -M margin-left=1in -M margin-right=1in --quiet\n",
        "            google.colab.files.download(str(p/f'{n.stem}.pdf'));s.value=f'🎉 Downloaded {n.stem}.pdf'\n",
        "        except Exception as e:\n",
        "            s.value=f'⚠️ ERROR {str(e)}'\n",
        "        finally:\n",
        "            b.disabled=False\n",
        "    if not pathlib.Path('/usr/local/bin/quarto').exists():\n",
        "        !wget -q 'https://quarto.org/download/latest/quarto-linux-amd64.deb' && dpkg -i quarto-linux-amd64.deb>/dev/null && quarto install tinytex --update-path --quiet && rm quarto-linux-amd64.deb\n",
        "    b=ipywidgets.widgets.Button(description='⬇️ Download PDF');s=ipywidgets.widgets.Label();b.on_click(lambda b:convert(b));IPython.display.display(ipywidgets.widgets.HBox([b,s]))\n",
        "    IPython.display.display(IPython.display.Javascript('document.currentScript.parentElement.closest(\".output_subarea\").querySelector(\"#output-footer > input\").remove();'))\n",
        "colab2pdf()"
      ],
      "metadata": {
        "id": "gBiQX52N_Hzr"
      },
      "execution_count": null,
      "outputs": []
    }
  ]
}