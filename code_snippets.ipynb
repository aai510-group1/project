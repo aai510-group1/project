{
  "nbformat": 4,
  "nbformat_minor": 0,
  "metadata": {
    "colab": {
      "private_outputs": true,
      "provenance": [],
      "authorship_tag": "ABX9TyMFoacNktghrHFAf5jnuDqo",
      "include_colab_link": true
    },
    "kernelspec": {
      "name": "python3",
      "display_name": "Python 3"
    },
    "language_info": {
      "name": "python"
    }
  },
  "cells": [
    {
      "cell_type": "markdown",
      "metadata": {
        "id": "view-in-github",
        "colab_type": "text"
      },
      "source": [
        "<a href=\"https://colab.research.google.com/github/aai510-group1/project/blob/main/code_snippets.ipynb\" target=\"_parent\"><img src=\"https://colab.research.google.com/assets/colab-badge.svg\" alt=\"Open In Colab\"/></a>"
      ]
    },
    {
      "cell_type": "code",
      "execution_count": null,
      "metadata": {
        "id": "zsDfZfTJxaqV"
      },
      "outputs": [],
      "source": [
        "# @title Load the Merged Telco Customer Dataset\n",
        "%pip install --quiet --progress-bar=off uv\n",
        "!uv pip install --system --upgrade --quiet datasets\n",
        "from datasets import load_dataset\n",
        "dataset = load_dataset('aai510-group1/telco-customer-churn', token=False)\n",
        "df_train = dataset['train'].to_pandas()\n",
        "df_test = dataset['test'].to_pandas()\n",
        "df_val = dataset['validation'].to_pandas()"
      ]
    }
  ]
}