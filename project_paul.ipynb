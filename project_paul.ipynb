{
 "cells": [
  {
   "cell_type": "markdown",
   "metadata": {},
   "source": [
    "<a href=\"https://colab.research.google.com/github/aai510-group1/project/blob/main/project_paul.ipynb\" target=\"_parent\"><img src=\"https://colab.research.google.com/assets/colab-badge.svg\" alt=\"Open In Colab\"/></a>"
   ]
  },
  {
   "cell_type": "code",
   "execution_count": 87,
   "metadata": {},
   "outputs": [],
   "source": [
    "import pandas as pd\n",
    "import numpy as np\n",
    "import matplotlib.pyplot as plt\n",
    "import seaborn as sns\n",
    "from sklearn.preprocessing import LabelEncoder\n",
    "from sklearn.model_selection import train_test_split\n",
    "from sklearn.ensemble import RandomForestClassifier\n",
    "from sklearn.linear_model import LogisticRegression\n",
    "from sklearn.metrics import classification_report, confusion_matrix, accuracy_score, roc_auc_score\n",
    "from xgboost import XGBClassifier\n"
   ]
  },
  {
   "cell_type": "markdown",
   "metadata": {},
   "source": [
    "# Load Dataset"
   ]
  },
  {
   "cell_type": "code",
   "execution_count": 88,
   "metadata": {},
   "outputs": [],
   "source": [
    "# Load the Telco dataset\n",
    "df = pd.read_csv('./Dataset/dataset.csv')\n",
    "# drop customer id and location data\n",
    "\n",
    "df.drop([\n",
    "    'Customer ID',\n",
    "    'Lat Long', \n",
    "    'Country', \n",
    "    'State', \n",
    "    'City', \n",
    "    'Zip Code', \n",
    "    ], axis=1, inplace=True)"
   ]
  },
  {
   "cell_type": "markdown",
   "metadata": {},
   "source": [
    "# EDA"
   ]
  },
  {
   "cell_type": "code",
   "execution_count": 89,
   "metadata": {},
   "outputs": [
    {
     "name": "stdout",
     "output_type": "stream",
     "text": [
      "   Age  Avg Monthly GB Download  Avg Monthly Long Distance Charges  \\\n",
      "0   78                        8                               0.00   \n",
      "1   39                       18                              42.55   \n",
      "2   32                       26                               7.11   \n",
      "3   35                       25                               0.00   \n",
      "4   20                       42                              36.49   \n",
      "\n",
      "  Churn Category Churn Label                  Churn Reason  Churn Score  \\\n",
      "0     Competitor         Yes  Competitor offered more data           91   \n",
      "1            NaN          No                           NaN           42   \n",
      "2            NaN          No                           NaN           34   \n",
      "3            NaN          No                           NaN           46   \n",
      "4            NaN          No                           NaN           38   \n",
      "\n",
      "   Churn Value  CLTV        Contract  ... Streaming Music Streaming TV  \\\n",
      "0            1  5433  Month-to-Month  ...              No           No   \n",
      "1            0  4658        Two Year  ...              No           No   \n",
      "2            0  3503  Month-to-Month  ...              No           No   \n",
      "3            0  5748        Two Year  ...             Yes          Yes   \n",
      "4            0  5545        One Year  ...             Yes          Yes   \n",
      "\n",
      "  Tenure in Months Total Charges Total Extra Data Charges  \\\n",
      "0                1         39.65                       20   \n",
      "1               72       5016.65                        0   \n",
      "2                1         75.55                        0   \n",
      "3               66       3708.40                        0   \n",
      "4                7        633.45                        0   \n",
      "\n",
      "  Total Long Distance Charges  Total Refunds  Total Revenue Under 30  \\\n",
      "0                        0.00            0.0          59.65       No   \n",
      "1                     3063.60            0.0        8080.25       No   \n",
      "2                        7.11            0.0          82.66       No   \n",
      "3                        0.00            0.0        3708.40       No   \n",
      "4                      255.43            0.0         888.88      Yes   \n",
      "\n",
      "   Unlimited Data  \n",
      "0              No  \n",
      "1             Yes  \n",
      "2             Yes  \n",
      "3             Yes  \n",
      "4             Yes  \n",
      "\n",
      "[5 rows x 47 columns]\n"
     ]
    }
   ],
   "source": [
    "# Display the first 5 rows of the dataframe\n",
    "print(df.head())"
   ]
  },
  {
   "cell_type": "code",
   "execution_count": 90,
   "metadata": {},
   "outputs": [
    {
     "name": "stdout",
     "output_type": "stream",
     "text": [
      "               Age  Avg Monthly GB Download  \\\n",
      "count  7043.000000              7043.000000   \n",
      "mean     46.509726                20.515405   \n",
      "std      16.750352                20.418940   \n",
      "min      19.000000                 0.000000   \n",
      "25%      32.000000                 3.000000   \n",
      "50%      46.000000                17.000000   \n",
      "75%      60.000000                27.000000   \n",
      "max      80.000000                85.000000   \n",
      "\n",
      "       Avg Monthly Long Distance Charges  Churn Score  Churn Value  \\\n",
      "count                        7043.000000  7043.000000  7043.000000   \n",
      "mean                           22.958954    58.505040     0.265370   \n",
      "std                            15.448113    21.170031     0.441561   \n",
      "min                             0.000000     5.000000     0.000000   \n",
      "25%                             9.210000    40.000000     0.000000   \n",
      "50%                            22.890000    61.000000     0.000000   \n",
      "75%                            36.395000    75.500000     1.000000   \n",
      "max                            49.990000    96.000000     1.000000   \n",
      "\n",
      "              CLTV     Latitude    Longitude  Monthly Charge  \\\n",
      "count  7043.000000  7043.000000  7043.000000     7043.000000   \n",
      "mean   4400.295755    36.197455  -119.756684       64.761692   \n",
      "std    1183.057152     2.468929     2.154425       30.090047   \n",
      "min    2003.000000    32.555828  -124.301372       18.250000   \n",
      "25%    3469.000000    33.990646  -121.788090       35.500000   \n",
      "50%    4527.000000    36.205465  -119.595293       70.350000   \n",
      "75%    5380.500000    38.161321  -117.969795       89.850000   \n",
      "max    6500.000000    41.962127  -114.192901      118.750000   \n",
      "\n",
      "       Number of Dependents  Number of Referrals     Population  \\\n",
      "count           7043.000000          7043.000000    7043.000000   \n",
      "mean               0.468692             1.951867   22139.603294   \n",
      "std                0.962802             3.001199   21152.392837   \n",
      "min                0.000000             0.000000      11.000000   \n",
      "25%                0.000000             0.000000    2344.000000   \n",
      "50%                0.000000             0.000000   17554.000000   \n",
      "75%                0.000000             3.000000   36125.000000   \n",
      "max                9.000000            11.000000  105285.000000   \n",
      "\n",
      "       Satisfaction Score  Tenure in Months  Total Charges  \\\n",
      "count         7043.000000       7043.000000    7043.000000   \n",
      "mean             3.244924         32.386767    2280.381264   \n",
      "std              1.201657         24.542061    2266.220462   \n",
      "min              1.000000          1.000000      18.800000   \n",
      "25%              3.000000          9.000000     400.150000   \n",
      "50%              3.000000         29.000000    1394.550000   \n",
      "75%              4.000000         55.000000    3786.600000   \n",
      "max              5.000000         72.000000    8684.800000   \n",
      "\n",
      "       Total Extra Data Charges  Total Long Distance Charges  Total Refunds  \\\n",
      "count               7043.000000                  7043.000000    7043.000000   \n",
      "mean                   6.860713                   749.099262       1.962182   \n",
      "std                   25.104978                   846.660055       7.902614   \n",
      "min                    0.000000                     0.000000       0.000000   \n",
      "25%                    0.000000                    70.545000       0.000000   \n",
      "50%                    0.000000                   401.440000       0.000000   \n",
      "75%                    0.000000                  1191.100000       0.000000   \n",
      "max                  150.000000                  3564.720000      49.790000   \n",
      "\n",
      "       Total Revenue  \n",
      "count    7043.000000  \n",
      "mean     3034.379056  \n",
      "std      2865.204542  \n",
      "min        21.360000  \n",
      "25%       605.610000  \n",
      "50%      2108.640000  \n",
      "75%      4801.145000  \n",
      "max     11979.340000  \n"
     ]
    }
   ],
   "source": [
    "# Display the summary statistics of the dataframe\n",
    "print(df.describe())"
   ]
  },
  {
   "cell_type": "code",
   "execution_count": 91,
   "metadata": {},
   "outputs": [
    {
     "name": "stdout",
     "output_type": "stream",
     "text": [
      "<class 'pandas.core.frame.DataFrame'>\n",
      "RangeIndex: 7043 entries, 0 to 7042\n",
      "Data columns (total 47 columns):\n",
      " #   Column                             Non-Null Count  Dtype  \n",
      "---  ------                             --------------  -----  \n",
      " 0   Age                                7043 non-null   int64  \n",
      " 1   Avg Monthly GB Download            7043 non-null   int64  \n",
      " 2   Avg Monthly Long Distance Charges  7043 non-null   float64\n",
      " 3   Churn Category                     1869 non-null   object \n",
      " 4   Churn Label                        7043 non-null   object \n",
      " 5   Churn Reason                       1869 non-null   object \n",
      " 6   Churn Score                        7043 non-null   int64  \n",
      " 7   Churn Value                        7043 non-null   int64  \n",
      " 8   CLTV                               7043 non-null   int64  \n",
      " 9   Contract                           7043 non-null   object \n",
      " 10  Customer Status                    7043 non-null   object \n",
      " 11  Dependents                         7043 non-null   object \n",
      " 12  Device Protection Plan             7043 non-null   object \n",
      " 13  Gender                             7043 non-null   object \n",
      " 14  Internet Service                   7043 non-null   object \n",
      " 15  Internet Type                      5517 non-null   object \n",
      " 16  Latitude                           7043 non-null   float64\n",
      " 17  Longitude                          7043 non-null   float64\n",
      " 18  Married                            7043 non-null   object \n",
      " 19  Monthly Charge                     7043 non-null   float64\n",
      " 20  Multiple Lines                     7043 non-null   object \n",
      " 21  Number of Dependents               7043 non-null   int64  \n",
      " 22  Number of Referrals                7043 non-null   int64  \n",
      " 23  Offer                              3166 non-null   object \n",
      " 24  Online Backup                      7043 non-null   object \n",
      " 25  Online Security                    7043 non-null   object \n",
      " 26  Paperless Billing                  7043 non-null   object \n",
      " 27  Partner                            7043 non-null   object \n",
      " 28  Payment Method                     7043 non-null   object \n",
      " 29  Phone Service                      7043 non-null   object \n",
      " 30  Population                         7043 non-null   int64  \n",
      " 31  Premium Tech Support               7043 non-null   object \n",
      " 32  Quarter                            7043 non-null   object \n",
      " 33  Referred a Friend                  7043 non-null   object \n",
      " 34  Satisfaction Score                 7043 non-null   int64  \n",
      " 35  Senior Citizen                     7043 non-null   object \n",
      " 36  Streaming Movies                   7043 non-null   object \n",
      " 37  Streaming Music                    7043 non-null   object \n",
      " 38  Streaming TV                       7043 non-null   object \n",
      " 39  Tenure in Months                   7043 non-null   int64  \n",
      " 40  Total Charges                      7043 non-null   float64\n",
      " 41  Total Extra Data Charges           7043 non-null   int64  \n",
      " 42  Total Long Distance Charges        7043 non-null   float64\n",
      " 43  Total Refunds                      7043 non-null   float64\n",
      " 44  Total Revenue                      7043 non-null   float64\n",
      " 45  Under 30                           7043 non-null   object \n",
      " 46  Unlimited Data                     7043 non-null   object \n",
      "dtypes: float64(8), int64(11), object(28)\n",
      "memory usage: 2.5+ MB\n",
      "None\n"
     ]
    }
   ],
   "source": [
    "# Display the information of the dataframe\n",
    "print(df.info())"
   ]
  },
  {
   "cell_type": "code",
   "execution_count": 92,
   "metadata": {},
   "outputs": [
    {
     "name": "stdout",
     "output_type": "stream",
     "text": [
      "Age                                     0\n",
      "Avg Monthly GB Download                 0\n",
      "Avg Monthly Long Distance Charges       0\n",
      "Churn Category                       5174\n",
      "Churn Label                             0\n",
      "Churn Reason                         5174\n",
      "Churn Score                             0\n",
      "Churn Value                             0\n",
      "CLTV                                    0\n",
      "Contract                                0\n",
      "Customer Status                         0\n",
      "Dependents                              0\n",
      "Device Protection Plan                  0\n",
      "Gender                                  0\n",
      "Internet Service                        0\n",
      "Internet Type                        1526\n",
      "Latitude                                0\n",
      "Longitude                               0\n",
      "Married                                 0\n",
      "Monthly Charge                          0\n",
      "Multiple Lines                          0\n",
      "Number of Dependents                    0\n",
      "Number of Referrals                     0\n",
      "Offer                                3877\n",
      "Online Backup                           0\n",
      "Online Security                         0\n",
      "Paperless Billing                       0\n",
      "Partner                                 0\n",
      "Payment Method                          0\n",
      "Phone Service                           0\n",
      "Population                              0\n",
      "Premium Tech Support                    0\n",
      "Quarter                                 0\n",
      "Referred a Friend                       0\n",
      "Satisfaction Score                      0\n",
      "Senior Citizen                          0\n",
      "Streaming Movies                        0\n",
      "Streaming Music                         0\n",
      "Streaming TV                            0\n",
      "Tenure in Months                        0\n",
      "Total Charges                           0\n",
      "Total Extra Data Charges                0\n",
      "Total Long Distance Charges             0\n",
      "Total Refunds                           0\n",
      "Total Revenue                           0\n",
      "Under 30                                0\n",
      "Unlimited Data                          0\n",
      "dtype: int64\n"
     ]
    }
   ],
   "source": [
    "# Check for missing values\n",
    "print(df.isnull().sum())"
   ]
  },
  {
   "cell_type": "code",
   "execution_count": 93,
   "metadata": {},
   "outputs": [
    {
     "data": {
      "image/png": "[encoded data removed]",
      "text/plain": [
       "<Figure size 640x480 with 1 Axes>"
      ]
     },
     "metadata": {},
     "output_type": "display_data"
    }
   ],
   "source": [
    "sns.countplot(x='Churn Value', data=df)\n",
    "plt.show()"
   ]
  },
  {
   "cell_type": "code",
   "execution_count": 94,
   "metadata": {},
   "outputs": [
    {
     "name": "stderr",
     "output_type": "stream",
     "text": [
      "/Users/pparks/anaconda3/envs/msaai-1/lib/python3.10/site-packages/seaborn/_oldcore.py:1119: FutureWarning: use_inf_as_na option is deprecated and will be removed in a future version. Convert inf values to NaN before operating instead.\n",
      "  with pd.option_context('mode.use_inf_as_na', True):\n"
     ]
    },
    {
     "data": {
      "image/png": "[encoded data removed]",
      "text/plain": [
       "<Figure size 640x480 with 1 Axes>"
      ]
     },
     "metadata": {},
     "output_type": "display_data"
    }
   ],
   "source": [
    "sns.histplot(df['Tenure in Months'], kde=True)\n",
    "plt.show()"
   ]
  },
  {
   "cell_type": "code",
   "execution_count": 95,
   "metadata": {},
   "outputs": [
    {
     "name": "stderr",
     "output_type": "stream",
     "text": [
      "/Users/pparks/anaconda3/envs/msaai-1/lib/python3.10/site-packages/seaborn/_oldcore.py:1119: FutureWarning: use_inf_as_na option is deprecated and will be removed in a future version. Convert inf values to NaN before operating instead.\n",
      "  with pd.option_context('mode.use_inf_as_na', True):\n"
     ]
    },
    {
     "data": {
      "image/png": "[encoded data removed]",
      "text/plain": [
       "<Figure size 640x480 with 1 Axes>"
      ]
     },
     "metadata": {},
     "output_type": "display_data"
    }
   ],
   "source": [
    "sns.histplot(df['Monthly Charge'], kde=True)\n",
    "plt.show()"
   ]
  },
  {
   "cell_type": "markdown",
   "metadata": {},
   "source": [
    "# Cleaning"
   ]
  },
  {
   "cell_type": "code",
   "execution_count": 96,
   "metadata": {},
   "outputs": [
    {
     "name": "stdout",
     "output_type": "stream",
     "text": [
      "['Dependents', 'Device Protection Plan', 'Gender', 'Internet Service', 'Married', 'Multiple Lines', 'Online Backup', 'Online Security', 'Paperless Billing', 'Partner', 'Phone Service', 'Premium Tech Support', 'Referred a Friend', 'Senior Citizen', 'Streaming Movies', 'Streaming Music', 'Streaming TV', 'Under 30', 'Unlimited Data']\n",
      "Dependents: ['No' 'Yes']\n",
      "Device Protection Plan: ['Yes' 'No']\n",
      "Gender: ['Male' 'Female']\n",
      "Internet Service: ['Yes' 'No']\n",
      "Married: ['No' 'Yes']\n",
      "Multiple Lines: ['No' 'Yes']\n",
      "Online Backup: ['No' 'Yes']\n",
      "Online Security: ['No' 'Yes']\n",
      "Paperless Billing: ['Yes' 'No']\n",
      "Partner: ['No' 'Yes']\n",
      "Phone Service: ['No' 'Yes']\n",
      "Premium Tech Support: ['No' 'Yes']\n",
      "Referred a Friend: ['No' 'Yes']\n",
      "Senior Citizen: ['Yes' 'No']\n",
      "Streaming Movies: ['Yes' 'No']\n",
      "Streaming Music: ['No' 'Yes']\n",
      "Streaming TV: ['No' 'Yes']\n",
      "Under 30: ['No' 'Yes']\n",
      "Unlimited Data: ['No' 'Yes']\n"
     ]
    }
   ],
   "source": [
    "# find all columns that contain 2 values that are strings\n",
    "binary_columns = [col for col in df.columns if df[col].nunique() == 2]\n",
    "# drop Churn Value column\n",
    "binary_columns.remove('Churn Value')\n",
    "binary_columns.remove('Churn Label')\n",
    "\n",
    "print(binary_columns)\n",
    "\n",
    "for column in binary_columns:\n",
    "    # check if column is string\n",
    "    if df[column].dtype != 'object':\n",
    "        binary_columns.remove(column)\n",
    "    print(f'{column}: {df[column].unique()}')"
   ]
  },
  {
   "cell_type": "code",
   "execution_count": 97,
   "metadata": {},
   "outputs": [
    {
     "name": "stdout",
     "output_type": "stream",
     "text": [
      "Dependents: ['No' 'Yes']\n",
      "Device Protection Plan: ['Yes' 'No']\n",
      "Gender: ['Male' 'Female']\n",
      "Internet Service: ['Yes' 'No']\n",
      "Married: ['No' 'Yes']\n",
      "Multiple Lines: ['No' 'Yes']\n",
      "Online Backup: ['No' 'Yes']\n",
      "Online Security: ['No' 'Yes']\n",
      "Paperless Billing: ['Yes' 'No']\n",
      "Partner: ['No' 'Yes']\n",
      "Phone Service: ['No' 'Yes']\n",
      "Premium Tech Support: ['No' 'Yes']\n",
      "Referred a Friend: ['No' 'Yes']\n",
      "Senior Citizen: ['Yes' 'No']\n",
      "Streaming Movies: ['Yes' 'No']\n",
      "Streaming Music: ['No' 'Yes']\n",
      "Streaming TV: ['No' 'Yes']\n",
      "Under 30: ['No' 'Yes']\n",
      "Unlimited Data: ['No' 'Yes']\n",
      "Dependents: [0 1]\n",
      "Device Protection Plan: [1 0]\n",
      "Gender: [0]\n",
      "Internet Service: [1 0]\n",
      "Married: [0 1]\n",
      "Multiple Lines: [0 1]\n",
      "Online Backup: [0 1]\n",
      "Online Security: [0 1]\n",
      "Paperless Billing: [1 0]\n",
      "Partner: [0 1]\n",
      "Phone Service: [0 1]\n",
      "Premium Tech Support: [0 1]\n",
      "Referred a Friend: [0 1]\n",
      "Senior Citizen: [1 0]\n",
      "Streaming Movies: [1 0]\n",
      "Streaming Music: [0 1]\n",
      "Streaming TV: [0 1]\n",
      "Under 30: [0 1]\n",
      "Unlimited Data: [0 1]\n"
     ]
    }
   ],
   "source": [
    "# Convert boolean columns to 1/0, except for columns with three values\n",
    "# boolean_columns = [\n",
    "#     'Senior Citizen', 'Partner', 'Dependents', 'Phone Service',\n",
    "#     'Paperless Billing', 'Churn Label',\n",
    "#     'Multiple Lines', 'Online Security', 'Online Backup',\n",
    "#     'Device Protection Plan', 'Premium Tech Support', 'Streaming TV', 'Streaming Movies'\n",
    "# ]\n",
    "boolean_columns = binary_columns\n",
    "\n",
    "# double check that these columns only have two values\n",
    "for column in boolean_columns:\n",
    "    print(f'{column}: {df[column].unique()}')\n",
    "\n",
    "for column in boolean_columns:\n",
    "    df[column] = df[column].apply(lambda x: 1 if x == 'Yes' else 0)\n",
    "\n",
    "for column in boolean_columns:\n",
    "    print(f'{column}: {df[column].unique()}')"
   ]
  },
  {
   "cell_type": "code",
   "execution_count": 98,
   "metadata": {},
   "outputs": [],
   "source": [
    "# # Handle columns with three values\n",
    "# three_value_columns = [\n",
    "#     'Multiple Lines', 'Online Security', 'Online Backup',\n",
    "#     'Device Protection Plan', 'Premium Tech Support', 'Streaming TV', 'Streaming Movies'\n",
    "# ]\n",
    "\n",
    "# # double check that these columns have three values\n",
    "# for column in three_value_columns:\n",
    "#     print(f'{column}: {df[column].unique()}')\n",
    "\n",
    "# for column in three_value_columns:\n",
    "#     df[column] = df[column].replace({\n",
    "#         'Yes': 1,\n",
    "#         'No': 0,\n",
    "#         'No internet service': -1,\n",
    "#         'No phone service': -1\n",
    "#     })\n",
    "\n",
    "# for column in three_value_columns:\n",
    "#     print(f'{column}: {df[column].unique()}')"
   ]
  },
  {
   "cell_type": "code",
   "execution_count": 99,
   "metadata": {},
   "outputs": [
    {
     "data": {
      "text/plain": [
       "count    7043.000000\n",
       "mean     2280.381264\n",
       "std      2266.220462\n",
       "min        18.800000\n",
       "25%       400.150000\n",
       "50%      1394.550000\n",
       "75%      3786.600000\n",
       "max      8684.800000\n",
       "Name: Total Charges, dtype: float64"
      ]
     },
     "execution_count": 99,
     "metadata": {},
     "output_type": "execute_result"
    }
   ],
   "source": [
    "# Clean the 'Total Charges' column\n",
    "df['Total Charges'] = pd.to_numeric(df['Total Charges'], errors='coerce')\n",
    "df['Total Charges'].describe()"
   ]
  },
  {
   "cell_type": "code",
   "execution_count": 100,
   "metadata": {},
   "outputs": [
    {
     "name": "stdout",
     "output_type": "stream",
     "text": [
      "Age                                  0\n",
      "Avg Monthly GB Download              0\n",
      "Avg Monthly Long Distance Charges    0\n",
      "Churn Score                          0\n",
      "Churn Value                          0\n",
      "CLTV                                 0\n",
      "Dependents                           0\n",
      "Device Protection Plan               0\n",
      "Gender                               0\n",
      "Internet Service                     0\n",
      "Latitude                             0\n",
      "Longitude                            0\n",
      "Married                              0\n",
      "Monthly Charge                       0\n",
      "Multiple Lines                       0\n",
      "Number of Dependents                 0\n",
      "Number of Referrals                  0\n",
      "Online Backup                        0\n",
      "Online Security                      0\n",
      "Paperless Billing                    0\n",
      "Partner                              0\n",
      "Phone Service                        0\n",
      "Population                           0\n",
      "Premium Tech Support                 0\n",
      "Referred a Friend                    0\n",
      "Satisfaction Score                   0\n",
      "Senior Citizen                       0\n",
      "Streaming Movies                     0\n",
      "Streaming Music                      0\n",
      "Streaming TV                         0\n",
      "Tenure in Months                     0\n",
      "Total Charges                        0\n",
      "Total Extra Data Charges             0\n",
      "Total Long Distance Charges          0\n",
      "Total Refunds                        0\n",
      "Total Revenue                        0\n",
      "Under 30                             0\n",
      "Unlimited Data                       0\n",
      "dtype: int64\n"
     ]
    }
   ],
   "source": [
    "numeric_columns = df.select_dtypes(include=[float, int]).columns\n",
    "\n",
    "# first show the number of missing values in each column\n",
    "print(df[numeric_columns].isnull().sum())\n",
    "\n",
    "# since Total Charges has missing values, we will fill them with 0\n",
    "df['Total Charges'] = df['Total Charges'].fillna(0)"
   ]
  },
  {
   "cell_type": "code",
   "execution_count": 101,
   "metadata": {},
   "outputs": [
    {
     "name": "stdout",
     "output_type": "stream",
     "text": [
      "Index(['Churn Category', 'Churn Label', 'Churn Reason', 'Contract',\n",
      "       'Customer Status', 'Internet Type', 'Offer', 'Payment Method',\n",
      "       'Quarter'],\n",
      "      dtype='object')\n"
     ]
    }
   ],
   "source": [
    "# show call column types that are not numeric\n",
    "print(df.select_dtypes(exclude=[float, int, bool]).columns)"
   ]
  },
  {
   "cell_type": "code",
   "execution_count": 102,
   "metadata": {},
   "outputs": [],
   "source": [
    "# Encode categorical variables using get_dummies\n",
    "categorical_columns = ['Contract', 'Payment Method', 'Internet Type', 'Offer', 'Quarter']\n",
    "data_encoded_large = pd.get_dummies(df, columns=categorical_columns, drop_first=True)"
   ]
  },
  {
   "cell_type": "code",
   "execution_count": 103,
   "metadata": {},
   "outputs": [
    {
     "data": {
      "text/html": [
       "<div>\n",
       "<style scoped>\n",
       "    .dataframe tbody tr th:only-of-type {\n",
       "        vertical-align: middle;\n",
       "    }\n",
       "\n",
       "    .dataframe tbody tr th {\n",
       "        vertical-align: top;\n",
       "    }\n",
       "\n",
       "    .dataframe thead th {\n",
       "        text-align: right;\n",
       "    }\n",
       "</style>\n",
       "<table border=\"1\" class=\"dataframe\">\n",
       "  <thead>\n",
       "    <tr style=\"text-align: right;\">\n",
       "      <th></th>\n",
       "      <th>Age</th>\n",
       "      <th>Avg Monthly GB Download</th>\n",
       "      <th>Avg Monthly Long Distance Charges</th>\n",
       "      <th>Churn Score</th>\n",
       "      <th>Churn Value</th>\n",
       "      <th>CLTV</th>\n",
       "      <th>Dependents</th>\n",
       "      <th>Device Protection Plan</th>\n",
       "      <th>Gender</th>\n",
       "      <th>Internet Service</th>\n",
       "      <th>...</th>\n",
       "      <th>Streaming Music</th>\n",
       "      <th>Streaming TV</th>\n",
       "      <th>Tenure in Months</th>\n",
       "      <th>Total Charges</th>\n",
       "      <th>Total Extra Data Charges</th>\n",
       "      <th>Total Long Distance Charges</th>\n",
       "      <th>Total Refunds</th>\n",
       "      <th>Total Revenue</th>\n",
       "      <th>Under 30</th>\n",
       "      <th>Unlimited Data</th>\n",
       "    </tr>\n",
       "  </thead>\n",
       "  <tbody>\n",
       "    <tr>\n",
       "      <th>count</th>\n",
       "      <td>7043.000000</td>\n",
       "      <td>7043.000000</td>\n",
       "      <td>7043.000000</td>\n",
       "      <td>7043.000000</td>\n",
       "      <td>7043.000000</td>\n",
       "      <td>7043.000000</td>\n",
       "      <td>7043.000000</td>\n",
       "      <td>7043.000000</td>\n",
       "      <td>7043.0</td>\n",
       "      <td>7043.000000</td>\n",
       "      <td>...</td>\n",
       "      <td>7043.000000</td>\n",
       "      <td>7043.000000</td>\n",
       "      <td>7043.000000</td>\n",
       "      <td>7043.000000</td>\n",
       "      <td>7043.000000</td>\n",
       "      <td>7043.000000</td>\n",
       "      <td>7043.000000</td>\n",
       "      <td>7043.000000</td>\n",
       "      <td>7043.000000</td>\n",
       "      <td>7043.000000</td>\n",
       "    </tr>\n",
       "    <tr>\n",
       "      <th>mean</th>\n",
       "      <td>46.509726</td>\n",
       "      <td>20.515405</td>\n",
       "      <td>22.958954</td>\n",
       "      <td>58.505040</td>\n",
       "      <td>0.265370</td>\n",
       "      <td>4400.295755</td>\n",
       "      <td>0.231010</td>\n",
       "      <td>0.343888</td>\n",
       "      <td>0.0</td>\n",
       "      <td>0.783331</td>\n",
       "      <td>...</td>\n",
       "      <td>0.353259</td>\n",
       "      <td>0.384353</td>\n",
       "      <td>32.386767</td>\n",
       "      <td>2280.381264</td>\n",
       "      <td>6.860713</td>\n",
       "      <td>749.099262</td>\n",
       "      <td>1.962182</td>\n",
       "      <td>3034.379056</td>\n",
       "      <td>0.198921</td>\n",
       "      <td>0.673719</td>\n",
       "    </tr>\n",
       "    <tr>\n",
       "      <th>std</th>\n",
       "      <td>16.750352</td>\n",
       "      <td>20.418940</td>\n",
       "      <td>15.448113</td>\n",
       "      <td>21.170031</td>\n",
       "      <td>0.441561</td>\n",
       "      <td>1183.057152</td>\n",
       "      <td>0.421508</td>\n",
       "      <td>0.475038</td>\n",
       "      <td>0.0</td>\n",
       "      <td>0.412004</td>\n",
       "      <td>...</td>\n",
       "      <td>0.478016</td>\n",
       "      <td>0.486477</td>\n",
       "      <td>24.542061</td>\n",
       "      <td>2266.220462</td>\n",
       "      <td>25.104978</td>\n",
       "      <td>846.660055</td>\n",
       "      <td>7.902614</td>\n",
       "      <td>2865.204542</td>\n",
       "      <td>0.399217</td>\n",
       "      <td>0.468885</td>\n",
       "    </tr>\n",
       "    <tr>\n",
       "      <th>min</th>\n",
       "      <td>19.000000</td>\n",
       "      <td>0.000000</td>\n",
       "      <td>0.000000</td>\n",
       "      <td>5.000000</td>\n",
       "      <td>0.000000</td>\n",
       "      <td>2003.000000</td>\n",
       "      <td>0.000000</td>\n",
       "      <td>0.000000</td>\n",
       "      <td>0.0</td>\n",
       "      <td>0.000000</td>\n",
       "      <td>...</td>\n",
       "      <td>0.000000</td>\n",
       "      <td>0.000000</td>\n",
       "      <td>1.000000</td>\n",
       "      <td>18.800000</td>\n",
       "      <td>0.000000</td>\n",
       "      <td>0.000000</td>\n",
       "      <td>0.000000</td>\n",
       "      <td>21.360000</td>\n",
       "      <td>0.000000</td>\n",
       "      <td>0.000000</td>\n",
       "    </tr>\n",
       "    <tr>\n",
       "      <th>25%</th>\n",
       "      <td>32.000000</td>\n",
       "      <td>3.000000</td>\n",
       "      <td>9.210000</td>\n",
       "      <td>40.000000</td>\n",
       "      <td>0.000000</td>\n",
       "      <td>3469.000000</td>\n",
       "      <td>0.000000</td>\n",
       "      <td>0.000000</td>\n",
       "      <td>0.0</td>\n",
       "      <td>1.000000</td>\n",
       "      <td>...</td>\n",
       "      <td>0.000000</td>\n",
       "      <td>0.000000</td>\n",
       "      <td>9.000000</td>\n",
       "      <td>400.150000</td>\n",
       "      <td>0.000000</td>\n",
       "      <td>70.545000</td>\n",
       "      <td>0.000000</td>\n",
       "      <td>605.610000</td>\n",
       "      <td>0.000000</td>\n",
       "      <td>0.000000</td>\n",
       "    </tr>\n",
       "    <tr>\n",
       "      <th>50%</th>\n",
       "      <td>46.000000</td>\n",
       "      <td>17.000000</td>\n",
       "      <td>22.890000</td>\n",
       "      <td>61.000000</td>\n",
       "      <td>0.000000</td>\n",
       "      <td>4527.000000</td>\n",
       "      <td>0.000000</td>\n",
       "      <td>0.000000</td>\n",
       "      <td>0.0</td>\n",
       "      <td>1.000000</td>\n",
       "      <td>...</td>\n",
       "      <td>0.000000</td>\n",
       "      <td>0.000000</td>\n",
       "      <td>29.000000</td>\n",
       "      <td>1394.550000</td>\n",
       "      <td>0.000000</td>\n",
       "      <td>401.440000</td>\n",
       "      <td>0.000000</td>\n",
       "      <td>2108.640000</td>\n",
       "      <td>0.000000</td>\n",
       "      <td>1.000000</td>\n",
       "    </tr>\n",
       "    <tr>\n",
       "      <th>75%</th>\n",
       "      <td>60.000000</td>\n",
       "      <td>27.000000</td>\n",
       "      <td>36.395000</td>\n",
       "      <td>75.500000</td>\n",
       "      <td>1.000000</td>\n",
       "      <td>5380.500000</td>\n",
       "      <td>0.000000</td>\n",
       "      <td>1.000000</td>\n",
       "      <td>0.0</td>\n",
       "      <td>1.000000</td>\n",
       "      <td>...</td>\n",
       "      <td>1.000000</td>\n",
       "      <td>1.000000</td>\n",
       "      <td>55.000000</td>\n",
       "      <td>3786.600000</td>\n",
       "      <td>0.000000</td>\n",
       "      <td>1191.100000</td>\n",
       "      <td>0.000000</td>\n",
       "      <td>4801.145000</td>\n",
       "      <td>0.000000</td>\n",
       "      <td>1.000000</td>\n",
       "    </tr>\n",
       "    <tr>\n",
       "      <th>max</th>\n",
       "      <td>80.000000</td>\n",
       "      <td>85.000000</td>\n",
       "      <td>49.990000</td>\n",
       "      <td>96.000000</td>\n",
       "      <td>1.000000</td>\n",
       "      <td>6500.000000</td>\n",
       "      <td>1.000000</td>\n",
       "      <td>1.000000</td>\n",
       "      <td>0.0</td>\n",
       "      <td>1.000000</td>\n",
       "      <td>...</td>\n",
       "      <td>1.000000</td>\n",
       "      <td>1.000000</td>\n",
       "      <td>72.000000</td>\n",
       "      <td>8684.800000</td>\n",
       "      <td>150.000000</td>\n",
       "      <td>3564.720000</td>\n",
       "      <td>49.790000</td>\n",
       "      <td>11979.340000</td>\n",
       "      <td>1.000000</td>\n",
       "      <td>1.000000</td>\n",
       "    </tr>\n",
       "  </tbody>\n",
       "</table>\n",
       "<p>8 rows × 38 columns</p>\n",
       "</div>"
      ],
      "text/plain": [
       "               Age  Avg Monthly GB Download  \\\n",
       "count  7043.000000              7043.000000   \n",
       "mean     46.509726                20.515405   \n",
       "std      16.750352                20.418940   \n",
       "min      19.000000                 0.000000   \n",
       "25%      32.000000                 3.000000   \n",
       "50%      46.000000                17.000000   \n",
       "75%      60.000000                27.000000   \n",
       "max      80.000000                85.000000   \n",
       "\n",
       "       Avg Monthly Long Distance Charges  Churn Score  Churn Value  \\\n",
       "count                        7043.000000  7043.000000  7043.000000   \n",
       "mean                           22.958954    58.505040     0.265370   \n",
       "std                            15.448113    21.170031     0.441561   \n",
       "min                             0.000000     5.000000     0.000000   \n",
       "25%                             9.210000    40.000000     0.000000   \n",
       "50%                            22.890000    61.000000     0.000000   \n",
       "75%                            36.395000    75.500000     1.000000   \n",
       "max                            49.990000    96.000000     1.000000   \n",
       "\n",
       "              CLTV   Dependents  Device Protection Plan  Gender  \\\n",
       "count  7043.000000  7043.000000             7043.000000  7043.0   \n",
       "mean   4400.295755     0.231010                0.343888     0.0   \n",
       "std    1183.057152     0.421508                0.475038     0.0   \n",
       "min    2003.000000     0.000000                0.000000     0.0   \n",
       "25%    3469.000000     0.000000                0.000000     0.0   \n",
       "50%    4527.000000     0.000000                0.000000     0.0   \n",
       "75%    5380.500000     0.000000                1.000000     0.0   \n",
       "max    6500.000000     1.000000                1.000000     0.0   \n",
       "\n",
       "       Internet Service  ...  Streaming Music  Streaming TV  Tenure in Months  \\\n",
       "count       7043.000000  ...      7043.000000   7043.000000       7043.000000   \n",
       "mean           0.783331  ...         0.353259      0.384353         32.386767   \n",
       "std            0.412004  ...         0.478016      0.486477         24.542061   \n",
       "min            0.000000  ...         0.000000      0.000000          1.000000   \n",
       "25%            1.000000  ...         0.000000      0.000000          9.000000   \n",
       "50%            1.000000  ...         0.000000      0.000000         29.000000   \n",
       "75%            1.000000  ...         1.000000      1.000000         55.000000   \n",
       "max            1.000000  ...         1.000000      1.000000         72.000000   \n",
       "\n",
       "       Total Charges  Total Extra Data Charges  Total Long Distance Charges  \\\n",
       "count    7043.000000               7043.000000                  7043.000000   \n",
       "mean     2280.381264                  6.860713                   749.099262   \n",
       "std      2266.220462                 25.104978                   846.660055   \n",
       "min        18.800000                  0.000000                     0.000000   \n",
       "25%       400.150000                  0.000000                    70.545000   \n",
       "50%      1394.550000                  0.000000                   401.440000   \n",
       "75%      3786.600000                  0.000000                  1191.100000   \n",
       "max      8684.800000                150.000000                  3564.720000   \n",
       "\n",
       "       Total Refunds  Total Revenue     Under 30  Unlimited Data  \n",
       "count    7043.000000    7043.000000  7043.000000     7043.000000  \n",
       "mean        1.962182    3034.379056     0.198921        0.673719  \n",
       "std         7.902614    2865.204542     0.399217        0.468885  \n",
       "min         0.000000      21.360000     0.000000        0.000000  \n",
       "25%         0.000000     605.610000     0.000000        0.000000  \n",
       "50%         0.000000    2108.640000     0.000000        1.000000  \n",
       "75%         0.000000    4801.145000     0.000000        1.000000  \n",
       "max        49.790000   11979.340000     1.000000        1.000000  \n",
       "\n",
       "[8 rows x 38 columns]"
      ]
     },
     "execution_count": 103,
     "metadata": {},
     "output_type": "execute_result"
    }
   ],
   "source": [
    "data_encoded_large.describe()"
   ]
  },
  {
   "cell_type": "code",
   "execution_count": 104,
   "metadata": {},
   "outputs": [
    {
     "name": "stdout",
     "output_type": "stream",
     "text": [
      "Index(['Churn Category', 'Churn Label', 'Churn Reason', 'Customer Status'], dtype='object')\n"
     ]
    }
   ],
   "source": [
    "# show call column types that are not numeric\n",
    "print(data_encoded_large.select_dtypes(exclude=[float, int, bool]).columns)"
   ]
  },
  {
   "cell_type": "code",
   "execution_count": 105,
   "metadata": {},
   "outputs": [],
   "source": [
    "# Define the feature matrix (X) and the target vector (y)\n",
    "X = data_encoded_large.drop(columns=[\n",
    "     'Churn Label', \n",
    "     'Churn Value',\n",
    "     'Churn Score',\n",
    "     'Customer Status',\n",
    "     'CLTV',\n",
    "     'Churn Reason',\n",
    "     'Churn Category',\n",
    "     'Satisfaction Score',\n",
    "     ])\n",
    "y = data_encoded_large['Churn Value']"
   ]
  },
  {
   "cell_type": "code",
   "execution_count": 106,
   "metadata": {},
   "outputs": [
    {
     "name": "stdout",
     "output_type": "stream",
     "text": [
      "Age                                    int64\n",
      "Avg Monthly GB Download                int64\n",
      "Avg Monthly Long Distance Charges    float64\n",
      "Dependents                             int64\n",
      "Device Protection Plan                 int64\n",
      "Gender                                 int64\n",
      "Internet Service                       int64\n",
      "Latitude                             float64\n",
      "Longitude                            float64\n",
      "Married                                int64\n",
      "Monthly Charge                       float64\n",
      "Multiple Lines                         int64\n",
      "Number of Dependents                   int64\n",
      "Number of Referrals                    int64\n",
      "Online Backup                          int64\n",
      "Online Security                        int64\n",
      "Paperless Billing                      int64\n",
      "Partner                                int64\n",
      "Phone Service                          int64\n",
      "Population                             int64\n",
      "Premium Tech Support                   int64\n",
      "Referred a Friend                      int64\n",
      "Senior Citizen                         int64\n",
      "Streaming Movies                       int64\n",
      "Streaming Music                        int64\n",
      "Streaming TV                           int64\n",
      "Tenure in Months                       int64\n",
      "Total Charges                        float64\n",
      "Total Extra Data Charges               int64\n",
      "Total Long Distance Charges          float64\n",
      "Total Refunds                        float64\n",
      "Total Revenue                        float64\n",
      "Under 30                               int64\n",
      "Unlimited Data                         int64\n",
      "Contract_One Year                       bool\n",
      "Contract_Two Year                       bool\n",
      "Payment Method_Credit Card              bool\n",
      "Payment Method_Mailed Check             bool\n",
      "Internet Type_DSL                       bool\n",
      "Internet Type_Fiber Optic               bool\n",
      "Offer_Offer B                           bool\n",
      "Offer_Offer C                           bool\n",
      "Offer_Offer D                           bool\n",
      "Offer_Offer E                           bool\n",
      "dtype: object\n"
     ]
    }
   ],
   "source": [
    "# list all of the X feature types to verify that they are all numeric\n",
    "print(X.dtypes)"
   ]
  },
  {
   "cell_type": "code",
   "execution_count": 107,
   "metadata": {},
   "outputs": [
    {
     "name": "stdout",
     "output_type": "stream",
     "text": [
      "Churn Value\n",
      "0    5174\n",
      "1    1869\n",
      "Name: count, dtype: int64\n"
     ]
    }
   ],
   "source": [
    "# show values in y\n",
    "print(y.value_counts())"
   ]
  },
  {
   "cell_type": "code",
   "execution_count": 108,
   "metadata": {},
   "outputs": [
    {
     "name": "stdout",
     "output_type": "stream",
     "text": [
      "Index(['Age', 'Avg Monthly GB Download', 'Avg Monthly Long Distance Charges',\n",
      "       'Dependents', 'Device Protection Plan', 'Gender', 'Internet Service',\n",
      "       'Latitude', 'Longitude', 'Married', 'Monthly Charge', 'Multiple Lines',\n",
      "       'Number of Dependents', 'Number of Referrals', 'Online Backup',\n",
      "       'Online Security', 'Paperless Billing', 'Partner', 'Phone Service',\n",
      "       'Population', 'Premium Tech Support', 'Referred a Friend',\n",
      "       'Senior Citizen', 'Streaming Movies', 'Streaming Music', 'Streaming TV',\n",
      "       'Tenure in Months', 'Total Charges', 'Total Extra Data Charges',\n",
      "       'Total Long Distance Charges', 'Total Refunds', 'Total Revenue',\n",
      "       'Under 30', 'Unlimited Data', 'Contract_One Year', 'Contract_Two Year',\n",
      "       'Payment Method_Credit Card', 'Payment Method_Mailed Check',\n",
      "       'Internet Type_DSL', 'Internet Type_Fiber Optic', 'Offer_Offer B',\n",
      "       'Offer_Offer C', 'Offer_Offer D', 'Offer_Offer E'],\n",
      "      dtype='object')\n"
     ]
    }
   ],
   "source": [
    "# show columns in X\n",
    "print(X.columns)"
   ]
  },
  {
   "cell_type": "markdown",
   "metadata": {},
   "source": [
    "# Baseline Model"
   ]
  },
  {
   "cell_type": "code",
   "execution_count": 109,
   "metadata": {},
   "outputs": [],
   "source": [
    "# Split the data into training and testing sets\n",
    "X_train, X_test, y_train, y_test = train_test_split(X, y, test_size=0.2, random_state=42)"
   ]
  },
  {
   "cell_type": "code",
   "execution_count": 110,
   "metadata": {},
   "outputs": [],
   "source": [
    "def fit_predict_evaluate(model, X_train, y_train, X_test, y_test):\n",
    "    # Fit the model\n",
    "    model.fit(X_train, y_train)\n",
    "\n",
    "    # Predict the target vector\n",
    "    y_pred = model.predict(X_test)\n",
    "    \n",
    "    # Evaluate the model\n",
    "    print(f'Accuracy: {accuracy_score(y_test, y_pred)}')\n",
    "    print(f'Confusion Matrix:\\n{confusion_matrix(y_test, y_pred)}')\n",
    "    print(f'Classification Report:\\n{classification_report(y_test, y_pred)}')\n",
    "    print(f'AUC: {roc_auc_score(y_test, y_pred)}')"
   ]
  },
  {
   "cell_type": "markdown",
   "metadata": {},
   "source": [
    "## Logistic Regression"
   ]
  },
  {
   "cell_type": "code",
   "execution_count": 111,
   "metadata": {},
   "outputs": [
    {
     "name": "stdout",
     "output_type": "stream",
     "text": [
      "Accuracy: 0.7955997161107168\n",
      "Confusion Matrix:\n",
      "[[920 112]\n",
      " [176 201]]\n",
      "Classification Report:\n",
      "              precision    recall  f1-score   support\n",
      "\n",
      "           0       0.84      0.89      0.86      1032\n",
      "           1       0.64      0.53      0.58       377\n",
      "\n",
      "    accuracy                           0.80      1409\n",
      "   macro avg       0.74      0.71      0.72      1409\n",
      "weighted avg       0.79      0.80      0.79      1409\n",
      "\n",
      "AUC: 0.7123146834453972\n"
     ]
    },
    {
     "name": "stderr",
     "output_type": "stream",
     "text": [
      "/Users/pparks/anaconda3/envs/msaai-1/lib/python3.10/site-packages/sklearn/linear_model/_logistic.py:469: ConvergenceWarning: lbfgs failed to converge (status=1):\n",
      "STOP: TOTAL NO. of ITERATIONS REACHED LIMIT.\n",
      "\n",
      "Increase the number of iterations (max_iter) or scale the data as shown in:\n",
      "    https://scikit-learn.org/stable/modules/preprocessing.html\n",
      "Please also refer to the documentation for alternative solver options:\n",
      "    https://scikit-learn.org/stable/modules/linear_model.html#logistic-regression\n",
      "  n_iter_i = _check_optimize_result(\n"
     ]
    }
   ],
   "source": [
    "model = LogisticRegression(max_iter=1000)\n",
    "fit_predict_evaluate(model, X_train, y_train, X_test, y_test)"
   ]
  },
  {
   "cell_type": "markdown",
   "metadata": {},
   "source": [
    "## XGBoost"
   ]
  },
  {
   "cell_type": "code",
   "execution_count": 112,
   "metadata": {},
   "outputs": [
    {
     "name": "stdout",
     "output_type": "stream",
     "text": [
      "Accuracy: 0.8481192334989354\n",
      "Confusion Matrix:\n",
      "[[937  95]\n",
      " [119 258]]\n",
      "Classification Report:\n",
      "              precision    recall  f1-score   support\n",
      "\n",
      "           0       0.89      0.91      0.90      1032\n",
      "           1       0.73      0.68      0.71       377\n",
      "\n",
      "    accuracy                           0.85      1409\n",
      "   macro avg       0.81      0.80      0.80      1409\n",
      "weighted avg       0.85      0.85      0.85      1409\n",
      "\n",
      "AUC: 0.7961479345300516\n"
     ]
    }
   ],
   "source": [
    "model = XGBClassifier()\n",
    "fit_predict_evaluate(model, X_train, y_train, X_test, y_test)"
   ]
  },
  {
   "cell_type": "code",
   "execution_count": 113,
   "metadata": {},
   "outputs": [
    {
     "name": "stdout",
     "output_type": "stream",
     "text": [
      "Accuracy: 0.836763662171753\n",
      "Confusion Matrix:\n",
      "[[951  81]\n",
      " [149 228]]\n",
      "Classification Report:\n",
      "              precision    recall  f1-score   support\n",
      "\n",
      "           0       0.86      0.92      0.89      1032\n",
      "           1       0.74      0.60      0.66       377\n",
      "\n",
      "    accuracy                           0.84      1409\n",
      "   macro avg       0.80      0.76      0.78      1409\n",
      "weighted avg       0.83      0.84      0.83      1409\n",
      "\n",
      "AUC: 0.7631430818579976\n"
     ]
    }
   ],
   "source": [
    "# Try Random Forest\n",
    "model = RandomForestClassifier()\n",
    "fit_predict_evaluate(model, X_train, y_train, X_test, y_test)"
   ]
  },
  {
   "cell_type": "code",
   "execution_count": 114,
   "metadata": {},
   "outputs": [],
   "source": [
    "calculate_best_features = False"
   ]
  },
  {
   "cell_type": "markdown",
   "metadata": {},
   "source": [
    "## XGBoost hyperparameter"
   ]
  },
  {
   "cell_type": "code",
   "execution_count": 115,
   "metadata": {},
   "outputs": [
    {
     "name": "stdout",
     "output_type": "stream",
     "text": [
      "Accuracy: 0.8552164655784245\n",
      "Confusion Matrix:\n",
      "[[946  86]\n",
      " [118 259]]\n",
      "Classification Report:\n",
      "              precision    recall  f1-score   support\n",
      "\n",
      "           0       0.89      0.92      0.90      1032\n",
      "           1       0.75      0.69      0.72       377\n",
      "\n",
      "    accuracy                           0.86      1409\n",
      "   macro avg       0.82      0.80      0.81      1409\n",
      "weighted avg       0.85      0.86      0.85      1409\n",
      "\n",
      "AUC: 0.8018346595932803\n"
     ]
    }
   ],
   "source": [
    "from sklearn.model_selection import GridSearchCV\n",
    "if (calculate_best_features):\n",
    "    # Define the parameter grid\n",
    "    param_grid = {\n",
    "        'learning_rate': [0.1, 0.01, 0.001],\n",
    "        'max_depth': [3, 5, 7, 10],\n",
    "        'n_estimators': [100, 200, 500],\n",
    "        # 'tree_method': ['gpu_hist']  # Use GPU accelerated algorithm\n",
    "    }\n",
    "\n",
    "    # Initialize the XGBoost classifier\n",
    "    model = XGBClassifier()\n",
    "\n",
    "    # Initialize the GridSearchCV\n",
    "    grid_search = GridSearchCV(estimator=model, param_grid=param_grid, cv=3, scoring='f1_macro')\n",
    "\n",
    "    # Fit the data to the GridSearchCV\n",
    "    grid_search.fit(X_train, y_train)\n",
    "\n",
    "    # Get the best parameters\n",
    "    best_params = grid_search.best_params_\n",
    "\n",
    "    print(f'Best parameters: {best_params}')\n",
    "else: \n",
    "    # Best parameters: {'learning_rate': 0.1, 'max_depth': 3, 'n_estimators': 100}\n",
    "    best_params = {'learning_rate': 0.1, 'max_depth': 3, 'n_estimators': 100}\n",
    "\n",
    "# Initialize the XGBoost classifier with the best parameters\n",
    "model = XGBClassifier(**best_params)\n",
    "\n",
    "fit_predict_evaluate(model, X_train, y_train, X_test, y_test)"
   ]
  },
  {
   "cell_type": "markdown",
   "metadata": {},
   "source": [
    "## Random forest hyper parameter"
   ]
  },
  {
   "cell_type": "code",
   "execution_count": 116,
   "metadata": {},
   "outputs": [
    {
     "name": "stdout",
     "output_type": "stream",
     "text": [
      "Accuracy: 0.8452803406671399\n",
      "Confusion Matrix:\n",
      "[[959  73]\n",
      " [145 232]]\n",
      "Classification Report:\n",
      "              precision    recall  f1-score   support\n",
      "\n",
      "           0       0.87      0.93      0.90      1032\n",
      "           1       0.76      0.62      0.68       377\n",
      "\n",
      "    accuracy                           0.85      1409\n",
      "   macro avg       0.81      0.77      0.79      1409\n",
      "weighted avg       0.84      0.85      0.84      1409\n",
      "\n",
      "AUC: 0.7723240906380442\n"
     ]
    }
   ],
   "source": [
    "if (calculate_best_features):\n",
    "    # Define the parameter grid\n",
    "    param_grid = {\n",
    "        'n_estimators': [100, 200, 500, 1000],\n",
    "        'max_features': ['auto', 'sqrt'],\n",
    "        'max_depth': [10, 20, 30, 40, 50, None],\n",
    "        'min_samples_split': [2, 5, 10],\n",
    "        'min_samples_leaf': [1, 2, 4],\n",
    "        'bootstrap': [True, False]\n",
    "    }\n",
    "\n",
    "    # Initialize the RandomForestClassifier\n",
    "    model = RandomForestClassifier()\n",
    "\n",
    "    # Initialize the GridSearchCV\n",
    "    grid_search = GridSearchCV(estimator=model, param_grid=param_grid, cv=3, scoring='f1_macro', n_jobs=-1, verbose=2)\n",
    "\n",
    "    # Fit the data to the GridSearchCV\n",
    "    grid_search.fit(X_train, y_train)\n",
    "\n",
    "    # Get the best parameters\n",
    "    best_params = grid_search.best_params_\n",
    "\n",
    "    print(f'Best parameters: {best_params}')\n",
    "else:\n",
    "    # Best parameters: {'bootstrap': True, 'max_depth': 10, 'max_features': 'sqrt', 'min_samples_leaf': 1, 'min_samples_split': 5, 'n_estimators': 500}\n",
    "    best_params = {'bootstrap': True, 'max_depth': 10, 'max_features': 'sqrt', 'min_samples_leaf': 1, 'min_samples_split': 5, 'n_estimators': 500}\n",
    "\n",
    "# Initialize the RandomForestClassifier with the best parameters\n",
    "model = RandomForestClassifier(**best_params)\n",
    "\n",
    "fit_predict_evaluate(model, X_train, y_train, X_test, y_test)"
   ]
  },
  {
   "cell_type": "markdown",
   "metadata": {},
   "source": [
    "# Best Model\n",
    "\n",
    "Use Synthetic Minority Oversampling Technique to accound for imbalanced dataset"
   ]
  },
  {
   "cell_type": "code",
   "execution_count": 117,
   "metadata": {},
   "outputs": [
    {
     "name": "stdout",
     "output_type": "stream",
     "text": [
      "Accuracy: 0.8147622427253371\n",
      "Confusion Matrix:\n",
      "[[866 166]\n",
      " [ 95 282]]\n",
      "Classification Report:\n",
      "              precision    recall  f1-score   support\n",
      "\n",
      "           0       0.90      0.84      0.87      1032\n",
      "           1       0.63      0.75      0.68       377\n",
      "\n",
      "    accuracy                           0.81      1409\n",
      "   macro avg       0.77      0.79      0.78      1409\n",
      "weighted avg       0.83      0.81      0.82      1409\n",
      "\n",
      "AUC: 0.7935789484506405\n"
     ]
    }
   ],
   "source": [
    "# Try smote\n",
    "from imblearn.over_sampling import SMOTE\n",
    "smote = SMOTE(random_state=42)\n",
    "X_train_smote, y_train_smote = smote.fit_resample(X_train, y_train)\n",
    "\n",
    "best_params = {'bootstrap': True, 'max_depth': 10, 'max_features': 'sqrt', 'min_samples_leaf': 1, 'min_samples_split': 5, 'n_estimators': 500}\n",
    "model = RandomForestClassifier(**best_params)\n",
    "fit_predict_evaluate(model, X_train_smote, y_train_smote, X_test, y_test)"
   ]
  },
  {
   "cell_type": "markdown",
   "metadata": {},
   "source": [
    "# Deployment\n",
    "\n",
    "The model.pkl file is a serialized version of the trained machine learning model. This file can be used for deployment in a production environment.\n",
    "\n",
    "To use the model for prediction in a new environment, you first load it using joblib.load(). Once loaded, the model can be used to make predictions using the same feature set it was trained on."
   ]
  },
  {
   "cell_type": "code",
   "execution_count": 118,
   "metadata": {},
   "outputs": [
    {
     "name": "stdout",
     "output_type": "stream",
     "text": [
      "Accuracy: 0.8147622427253371\n",
      "Confusion Matrix:\n",
      "[[866 166]\n",
      " [ 95 282]]\n",
      "Classification Report:\n",
      "              precision    recall  f1-score   support\n",
      "\n",
      "           0       0.90      0.84      0.87      1032\n",
      "           1       0.63      0.75      0.68       377\n",
      "\n",
      "    accuracy                           0.81      1409\n",
      "   macro avg       0.77      0.79      0.78      1409\n",
      "weighted avg       0.83      0.81      0.82      1409\n",
      "\n",
      "AUC: 0.7935789484506405\n"
     ]
    }
   ],
   "source": [
    "# Save model to file\n",
    "import joblib\n",
    "joblib.dump(model, 'model.pkl')\n",
    "\n",
    "# Load the model from the file\n",
    "model_from_pkl = joblib.load('model.pkl')\n",
    "\n",
    "# Predict the target vector\n",
    "y_pred = model_from_pkl.predict(X_test)\n",
    "\n",
    "# Evaluate the model\n",
    "print(f'Accuracy: {accuracy_score(y_test, y_pred)}')\n",
    "print(f'Confusion Matrix:\\n{confusion_matrix(y_test, y_pred)}')\n",
    "print(f'Classification Report:\\n{classification_report(y_test, y_pred)}')\n",
    "print(f'AUC: {roc_auc_score(y_test, y_pred)}')"
   ]
  }
 ],
 "metadata": {
  "kernelspec": {
   "display_name": "base",
   "language": "python",
   "name": "python3"
  },
  "language_info": {
   "codemirror_mode": {
    "name": "ipython",
    "version": 3
   },
   "file_extension": ".py",
   "mimetype": "text/x-python",
   "name": "python",
   "nbconvert_exporter": "python",
   "pygments_lexer": "ipython3",
   "version": "3.10.12"
  }
 },
 "nbformat": 4,
 "nbformat_minor": 2
}
