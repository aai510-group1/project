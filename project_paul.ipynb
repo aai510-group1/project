{
 "cells": [
  {
   "cell_type": "markdown",
   "metadata": {},
   "source": [
    "<a href=\"https://colab.research.google.com/github/aai510-group1/project/blob/main/project_paul.ipynb\" target=\"_parent\"><img src=\"https://colab.research.google.com/assets/colab-badge.svg\" alt=\"Open In Colab\"/></a>"
   ]
  },
  {
   "cell_type": "code",
   "execution_count": 1,
   "metadata": {},
   "outputs": [],
   "source": [
    "import pandas as pd\n",
    "import numpy as np\n",
    "import matplotlib.pyplot as plt\n",
    "import seaborn as sns\n",
    "from sklearn.preprocessing import LabelEncoder\n",
    "from sklearn.model_selection import train_test_split\n",
    "from sklearn.ensemble import RandomForestClassifier\n",
    "from sklearn.linear_model import LogisticRegression\n",
    "from sklearn.metrics import classification_report, confusion_matrix, accuracy_score\n",
    "from xgboost import XGBClassifier\n"
   ]
  },
  {
   "cell_type": "markdown",
   "metadata": {},
   "source": [
    "# Load Dataset"
   ]
  },
  {
   "cell_type": "code",
   "execution_count": 2,
   "metadata": {},
   "outputs": [],
   "source": [
    "# Load the Telco dataset\n",
    "df = pd.read_csv('./Dataset/Telco_Customer_Churn.csv')\n",
    "# drop customer id and location data\n",
    "\n",
    "df.drop([\n",
    "    'Customer ID',\n",
    "    'Lat Long', \n",
    "    'Country', \n",
    "    'State', \n",
    "    'City', \n",
    "    'Zip Code', \n",
    "    ], axis=1, inplace=True)"
   ]
  },
  {
   "cell_type": "markdown",
   "metadata": {},
   "source": [
    "# EDA"
   ]
  },
  {
   "cell_type": "code",
   "execution_count": 3,
   "metadata": {},
   "outputs": [
    {
     "name": "stdout",
     "output_type": "stream",
     "text": [
      "   Count   Latitude   Longitude  Gender Senior Citizen Partner Dependents  \\\n",
      "0      1  33.964131 -118.272783    Male             No      No         No   \n",
      "1      1  34.059281 -118.307420  Female             No      No        Yes   \n",
      "2      1  34.048013 -118.293953  Female             No      No        Yes   \n",
      "3      1  34.062125 -118.315709  Female             No     Yes        Yes   \n",
      "4      1  34.039224 -118.266293    Male             No      No        Yes   \n",
      "\n",
      "   Tenure Months Phone Service Multiple Lines  ...        Contract  \\\n",
      "0              2           Yes             No  ...  Month-to-month   \n",
      "1              2           Yes             No  ...  Month-to-month   \n",
      "2              8           Yes            Yes  ...  Month-to-month   \n",
      "3             28           Yes            Yes  ...  Month-to-month   \n",
      "4             49           Yes            Yes  ...  Month-to-month   \n",
      "\n",
      "  Paperless Billing             Payment Method Monthly Charges Total Charges  \\\n",
      "0               Yes               Mailed check           53.85        108.15   \n",
      "1               Yes           Electronic check           70.70        151.65   \n",
      "2               Yes           Electronic check           99.65         820.5   \n",
      "3               Yes           Electronic check          104.80       3046.05   \n",
      "4               Yes  Bank transfer (automatic)          103.70        5036.3   \n",
      "\n",
      "  Churn Label Churn Value Churn Score  CLTV                   Churn Reason  \n",
      "0         Yes           1          86  3239   Competitor made better offer  \n",
      "1         Yes           1          67  2701                          Moved  \n",
      "2         Yes           1          86  5372                          Moved  \n",
      "3         Yes           1          84  5003                          Moved  \n",
      "4         Yes           1          89  5340  Competitor had better devices  \n",
      "\n",
      "[5 rows x 27 columns]\n"
     ]
    }
   ],
   "source": [
    "# Display the first 5 rows of the dataframe\n",
    "print(df.head())"
   ]
  },
  {
   "cell_type": "code",
   "execution_count": 4,
   "metadata": {},
   "outputs": [
    {
     "name": "stdout",
     "output_type": "stream",
     "text": [
      "        Count     Latitude    Longitude  Tenure Months  Monthly Charges  \\\n",
      "count  7043.0  7043.000000  7043.000000    7043.000000      7043.000000   \n",
      "mean      1.0    36.282441  -119.798880      32.371149        64.761692   \n",
      "std       0.0     2.455723     2.157889      24.559481        30.090047   \n",
      "min       1.0    32.555828  -124.301372       0.000000        18.250000   \n",
      "25%       1.0    34.030915  -121.815412       9.000000        35.500000   \n",
      "50%       1.0    36.391777  -119.730885      29.000000        70.350000   \n",
      "75%       1.0    38.224869  -118.043237      55.000000        89.850000   \n",
      "max       1.0    41.962127  -114.192901      72.000000       118.750000   \n",
      "\n",
      "       Churn Value  Churn Score         CLTV  \n",
      "count  7043.000000  7043.000000  7043.000000  \n",
      "mean      0.265370    58.699418  4400.295755  \n",
      "std       0.441561    21.525131  1183.057152  \n",
      "min       0.000000     5.000000  2003.000000  \n",
      "25%       0.000000    40.000000  3469.000000  \n",
      "50%       0.000000    61.000000  4527.000000  \n",
      "75%       1.000000    75.000000  5380.500000  \n",
      "max       1.000000   100.000000  6500.000000  \n"
     ]
    }
   ],
   "source": [
    "# Display the summary statistics of the dataframe\n",
    "print(df.describe())"
   ]
  },
  {
   "cell_type": "code",
   "execution_count": 5,
   "metadata": {},
   "outputs": [
    {
     "name": "stdout",
     "output_type": "stream",
     "text": [
      "<class 'pandas.core.frame.DataFrame'>\n",
      "RangeIndex: 7043 entries, 0 to 7042\n",
      "Data columns (total 27 columns):\n",
      " #   Column             Non-Null Count  Dtype  \n",
      "---  ------             --------------  -----  \n",
      " 0   Count              7043 non-null   int64  \n",
      " 1   Latitude           7043 non-null   float64\n",
      " 2   Longitude          7043 non-null   float64\n",
      " 3   Gender             7043 non-null   object \n",
      " 4   Senior Citizen     7043 non-null   object \n",
      " 5   Partner            7043 non-null   object \n",
      " 6   Dependents         7043 non-null   object \n",
      " 7   Tenure Months      7043 non-null   int64  \n",
      " 8   Phone Service      7043 non-null   object \n",
      " 9   Multiple Lines     7043 non-null   object \n",
      " 10  Internet Service   7043 non-null   object \n",
      " 11  Online Security    7043 non-null   object \n",
      " 12  Online Backup      7043 non-null   object \n",
      " 13  Device Protection  7043 non-null   object \n",
      " 14  Tech Support       7043 non-null   object \n",
      " 15  Streaming TV       7043 non-null   object \n",
      " 16  Streaming Movies   7043 non-null   object \n",
      " 17  Contract           7043 non-null   object \n",
      " 18  Paperless Billing  7043 non-null   object \n",
      " 19  Payment Method     7043 non-null   object \n",
      " 20  Monthly Charges    7043 non-null   float64\n",
      " 21  Total Charges      7043 non-null   object \n",
      " 22  Churn Label        7043 non-null   object \n",
      " 23  Churn Value        7043 non-null   int64  \n",
      " 24  Churn Score        7043 non-null   int64  \n",
      " 25  CLTV               7043 non-null   int64  \n",
      " 26  Churn Reason       1869 non-null   object \n",
      "dtypes: float64(3), int64(5), object(19)\n",
      "memory usage: 1.5+ MB\n",
      "None\n"
     ]
    }
   ],
   "source": [
    "# Display the information of the dataframe\n",
    "print(df.info())"
   ]
  },
  {
   "cell_type": "code",
   "execution_count": 6,
   "metadata": {},
   "outputs": [
    {
     "name": "stdout",
     "output_type": "stream",
     "text": [
      "Count                   0\n",
      "Latitude                0\n",
      "Longitude               0\n",
      "Gender                  0\n",
      "Senior Citizen          0\n",
      "Partner                 0\n",
      "Dependents              0\n",
      "Tenure Months           0\n",
      "Phone Service           0\n",
      "Multiple Lines          0\n",
      "Internet Service        0\n",
      "Online Security         0\n",
      "Online Backup           0\n",
      "Device Protection       0\n",
      "Tech Support            0\n",
      "Streaming TV            0\n",
      "Streaming Movies        0\n",
      "Contract                0\n",
      "Paperless Billing       0\n",
      "Payment Method          0\n",
      "Monthly Charges         0\n",
      "Total Charges           0\n",
      "Churn Label             0\n",
      "Churn Value             0\n",
      "Churn Score             0\n",
      "CLTV                    0\n",
      "Churn Reason         5174\n",
      "dtype: int64\n"
     ]
    }
   ],
   "source": [
    "# Check for missing values\n",
    "print(df.isnull().sum())"
   ]
  },
  {
   "cell_type": "code",
   "execution_count": 7,
   "metadata": {},
   "outputs": [
    {
     "data": {
      "image/png": "[encoded data removed]",
      "text/plain": [
       "<Figure size 640x480 with 1 Axes>"
      ]
     },
     "metadata": {},
     "output_type": "display_data"
    }
   ],
   "source": [
    "sns.countplot(x='Churn Value', data=df)\n",
    "plt.show()"
   ]
  },
  {
   "cell_type": "code",
   "execution_count": 8,
   "metadata": {},
   "outputs": [
    {
     "data": {
      "image/png": "[encoded data removed]",
      "text/plain": [
       "<Figure size 640x480 with 1 Axes>"
      ]
     },
     "metadata": {},
     "output_type": "display_data"
    }
   ],
   "source": [
    "sns.histplot(df['Tenure Months'], kde=True)\n",
    "plt.show()"
   ]
  },
  {
   "cell_type": "code",
   "execution_count": 9,
   "metadata": {},
   "outputs": [
    {
     "data": {
      "image/png": "[encoded data removed]",
      "text/plain": [
       "<Figure size 640x480 with 1 Axes>"
      ]
     },
     "metadata": {},
     "output_type": "display_data"
    }
   ],
   "source": [
    "sns.histplot(df['Monthly Charges'], kde=True)\n",
    "plt.show()"
   ]
  },
  {
   "cell_type": "markdown",
   "metadata": {},
   "source": [
    "# Cleaning"
   ]
  },
  {
   "cell_type": "code",
   "execution_count": 10,
   "metadata": {},
   "outputs": [
    {
     "name": "stdout",
     "output_type": "stream",
     "text": [
      "Senior Citizen: ['No' 'Yes']\n",
      "Partner: ['No' 'Yes']\n",
      "Dependents: ['No' 'Yes']\n",
      "Phone Service: ['Yes' 'No']\n",
      "Paperless Billing: ['Yes' 'No']\n",
      "Churn Label: ['Yes' 'No']\n",
      "Senior Citizen: [0 1]\n",
      "Partner: [0 1]\n",
      "Dependents: [0 1]\n",
      "Phone Service: [1 0]\n",
      "Paperless Billing: [1 0]\n",
      "Churn Label: [1 0]\n"
     ]
    }
   ],
   "source": [
    "# Convert boolean columns to 1/0, except for columns with three values\n",
    "boolean_columns = [\n",
    "    'Senior Citizen', 'Partner', 'Dependents', 'Phone Service',\n",
    "    'Paperless Billing', 'Churn Label'\n",
    "]\n",
    "\n",
    "# double check that these columns only have two values\n",
    "for column in boolean_columns:\n",
    "    print(f'{column}: {df[column].unique()}')\n",
    "\n",
    "for column in boolean_columns:\n",
    "    df[column] = df[column].apply(lambda x: 1 if x == 'Yes' else 0)\n",
    "\n",
    "for column in boolean_columns:\n",
    "    print(f'{column}: {df[column].unique()}')"
   ]
  },
  {
   "cell_type": "code",
   "execution_count": 11,
   "metadata": {},
   "outputs": [
    {
     "name": "stdout",
     "output_type": "stream",
     "text": [
      "Multiple Lines: ['No' 'Yes' 'No phone service']\n",
      "Online Security: ['Yes' 'No' 'No internet service']\n",
      "Online Backup: ['Yes' 'No' 'No internet service']\n",
      "Device Protection: ['No' 'Yes' 'No internet service']\n",
      "Tech Support: ['No' 'Yes' 'No internet service']\n",
      "Streaming TV: ['No' 'Yes' 'No internet service']\n",
      "Streaming Movies: ['No' 'Yes' 'No internet service']\n",
      "Multiple Lines: [ 0  1 -1]\n",
      "Online Security: [ 1  0 -1]\n",
      "Online Backup: [ 1  0 -1]\n",
      "Device Protection: [ 0  1 -1]\n",
      "Tech Support: [ 0  1 -1]\n",
      "Streaming TV: [ 0  1 -1]\n",
      "Streaming Movies: [ 0  1 -1]\n"
     ]
    }
   ],
   "source": [
    "# Handle columns with three values\n",
    "three_value_columns = [\n",
    "    'Multiple Lines', 'Online Security', 'Online Backup',\n",
    "    'Device Protection', 'Tech Support', 'Streaming TV', 'Streaming Movies'\n",
    "]\n",
    "\n",
    "# double check that these columns have three values\n",
    "for column in three_value_columns:\n",
    "    print(f'{column}: {df[column].unique()}')\n",
    "\n",
    "for column in three_value_columns:\n",
    "    df[column] = df[column].replace({\n",
    "        'Yes': 1,\n",
    "        'No': 0,\n",
    "        'No internet service': -1,\n",
    "        'No phone service': -1\n",
    "    })\n",
    "\n",
    "for column in three_value_columns:\n",
    "    print(f'{column}: {df[column].unique()}')"
   ]
  },
  {
   "cell_type": "code",
   "execution_count": 12,
   "metadata": {},
   "outputs": [
    {
     "data": {
      "text/plain": [
       "count    7032.000000\n",
       "mean     2283.300441\n",
       "std      2266.771362\n",
       "min        18.800000\n",
       "25%       401.450000\n",
       "50%      1397.475000\n",
       "75%      3794.737500\n",
       "max      8684.800000\n",
       "Name: Total Charges, dtype: float64"
      ]
     },
     "execution_count": 12,
     "metadata": {},
     "output_type": "execute_result"
    }
   ],
   "source": [
    "# Clean the 'Total Charges' column\n",
    "df['Total Charges'] = pd.to_numeric(df['Total Charges'], errors='coerce')\n",
    "df['Total Charges'].describe()"
   ]
  },
  {
   "cell_type": "code",
   "execution_count": 13,
   "metadata": {},
   "outputs": [
    {
     "name": "stdout",
     "output_type": "stream",
     "text": [
      "Count                 0\n",
      "Latitude              0\n",
      "Longitude             0\n",
      "Senior Citizen        0\n",
      "Partner               0\n",
      "Dependents            0\n",
      "Tenure Months         0\n",
      "Phone Service         0\n",
      "Multiple Lines        0\n",
      "Online Security       0\n",
      "Online Backup         0\n",
      "Device Protection     0\n",
      "Tech Support          0\n",
      "Streaming TV          0\n",
      "Streaming Movies      0\n",
      "Paperless Billing     0\n",
      "Monthly Charges       0\n",
      "Total Charges        11\n",
      "Churn Label           0\n",
      "Churn Value           0\n",
      "Churn Score           0\n",
      "CLTV                  0\n",
      "dtype: int64\n"
     ]
    }
   ],
   "source": [
    "numeric_columns = df.select_dtypes(include=[float, int]).columns\n",
    "\n",
    "# first show the number of missing values in each column\n",
    "print(df[numeric_columns].isnull().sum())\n",
    "\n",
    "# since Total Charges has missing values, we will fill them with 0\n",
    "df['Total Charges'] = df['Total Charges'].fillna(0)"
   ]
  },
  {
   "cell_type": "code",
   "execution_count": 14,
   "metadata": {},
   "outputs": [
    {
     "data": {
      "text/plain": [
       "count                           1869\n",
       "unique                            20\n",
       "top       Attitude of support person\n",
       "freq                             192\n",
       "Name: Churn Reason, dtype: object"
      ]
     },
     "execution_count": 14,
     "metadata": {},
     "output_type": "execute_result"
    }
   ],
   "source": [
    "df['Churn Reason'].describe()"
   ]
  },
  {
   "cell_type": "code",
   "execution_count": null,
   "metadata": {},
   "outputs": [],
   "source": []
  },
  {
   "cell_type": "code",
   "execution_count": 15,
   "metadata": {},
   "outputs": [],
   "source": [
    "# Encode categorical variables using get_dummies\n",
    "categorical_columns = ['Gender', 'Contract', 'Payment Method', 'Internet Service']\n",
    "data_encoded_large = pd.get_dummies(df, columns=categorical_columns, drop_first=True)"
   ]
  },
  {
   "cell_type": "code",
   "execution_count": 16,
   "metadata": {},
   "outputs": [
    {
     "data": {
      "text/html": [
       "<div>\n",
       "<style scoped>\n",
       "    .dataframe tbody tr th:only-of-type {\n",
       "        vertical-align: middle;\n",
       "    }\n",
       "\n",
       "    .dataframe tbody tr th {\n",
       "        vertical-align: top;\n",
       "    }\n",
       "\n",
       "    .dataframe thead th {\n",
       "        text-align: right;\n",
       "    }\n",
       "</style>\n",
       "<table border=\"1\" class=\"dataframe\">\n",
       "  <thead>\n",
       "    <tr style=\"text-align: right;\">\n",
       "      <th></th>\n",
       "      <th>Count</th>\n",
       "      <th>Latitude</th>\n",
       "      <th>Longitude</th>\n",
       "      <th>Senior Citizen</th>\n",
       "      <th>Partner</th>\n",
       "      <th>Dependents</th>\n",
       "      <th>Tenure Months</th>\n",
       "      <th>Phone Service</th>\n",
       "      <th>Multiple Lines</th>\n",
       "      <th>Online Security</th>\n",
       "      <th>...</th>\n",
       "      <th>Tech Support</th>\n",
       "      <th>Streaming TV</th>\n",
       "      <th>Streaming Movies</th>\n",
       "      <th>Paperless Billing</th>\n",
       "      <th>Monthly Charges</th>\n",
       "      <th>Total Charges</th>\n",
       "      <th>Churn Label</th>\n",
       "      <th>Churn Value</th>\n",
       "      <th>Churn Score</th>\n",
       "      <th>CLTV</th>\n",
       "    </tr>\n",
       "  </thead>\n",
       "  <tbody>\n",
       "    <tr>\n",
       "      <th>count</th>\n",
       "      <td>7043.0</td>\n",
       "      <td>7043.000000</td>\n",
       "      <td>7043.000000</td>\n",
       "      <td>7043.000000</td>\n",
       "      <td>7043.000000</td>\n",
       "      <td>7043.000000</td>\n",
       "      <td>7043.000000</td>\n",
       "      <td>7043.000000</td>\n",
       "      <td>7043.000000</td>\n",
       "      <td>7043.000000</td>\n",
       "      <td>...</td>\n",
       "      <td>7043.000000</td>\n",
       "      <td>7043.000000</td>\n",
       "      <td>7043.000000</td>\n",
       "      <td>7043.000000</td>\n",
       "      <td>7043.000000</td>\n",
       "      <td>7043.000000</td>\n",
       "      <td>7043.000000</td>\n",
       "      <td>7043.000000</td>\n",
       "      <td>7043.000000</td>\n",
       "      <td>7043.000000</td>\n",
       "    </tr>\n",
       "    <tr>\n",
       "      <th>mean</th>\n",
       "      <td>1.0</td>\n",
       "      <td>36.282441</td>\n",
       "      <td>-119.798880</td>\n",
       "      <td>0.162147</td>\n",
       "      <td>0.483033</td>\n",
       "      <td>0.231010</td>\n",
       "      <td>32.371149</td>\n",
       "      <td>0.903166</td>\n",
       "      <td>0.325004</td>\n",
       "      <td>0.069999</td>\n",
       "      <td>...</td>\n",
       "      <td>0.073548</td>\n",
       "      <td>0.167684</td>\n",
       "      <td>0.171234</td>\n",
       "      <td>0.592219</td>\n",
       "      <td>64.761692</td>\n",
       "      <td>2279.734304</td>\n",
       "      <td>0.265370</td>\n",
       "      <td>0.265370</td>\n",
       "      <td>58.699418</td>\n",
       "      <td>4400.295755</td>\n",
       "    </tr>\n",
       "    <tr>\n",
       "      <th>std</th>\n",
       "      <td>0.0</td>\n",
       "      <td>2.455723</td>\n",
       "      <td>2.157889</td>\n",
       "      <td>0.368612</td>\n",
       "      <td>0.499748</td>\n",
       "      <td>0.421508</td>\n",
       "      <td>24.559481</td>\n",
       "      <td>0.295752</td>\n",
       "      <td>0.642730</td>\n",
       "      <td>0.706051</td>\n",
       "      <td>...</td>\n",
       "      <td>0.708201</td>\n",
       "      <td>0.756958</td>\n",
       "      <td>0.758507</td>\n",
       "      <td>0.491457</td>\n",
       "      <td>30.090047</td>\n",
       "      <td>2266.794470</td>\n",
       "      <td>0.441561</td>\n",
       "      <td>0.441561</td>\n",
       "      <td>21.525131</td>\n",
       "      <td>1183.057152</td>\n",
       "    </tr>\n",
       "    <tr>\n",
       "      <th>min</th>\n",
       "      <td>1.0</td>\n",
       "      <td>32.555828</td>\n",
       "      <td>-124.301372</td>\n",
       "      <td>0.000000</td>\n",
       "      <td>0.000000</td>\n",
       "      <td>0.000000</td>\n",
       "      <td>0.000000</td>\n",
       "      <td>0.000000</td>\n",
       "      <td>-1.000000</td>\n",
       "      <td>-1.000000</td>\n",
       "      <td>...</td>\n",
       "      <td>-1.000000</td>\n",
       "      <td>-1.000000</td>\n",
       "      <td>-1.000000</td>\n",
       "      <td>0.000000</td>\n",
       "      <td>18.250000</td>\n",
       "      <td>0.000000</td>\n",
       "      <td>0.000000</td>\n",
       "      <td>0.000000</td>\n",
       "      <td>5.000000</td>\n",
       "      <td>2003.000000</td>\n",
       "    </tr>\n",
       "    <tr>\n",
       "      <th>25%</th>\n",
       "      <td>1.0</td>\n",
       "      <td>34.030915</td>\n",
       "      <td>-121.815412</td>\n",
       "      <td>0.000000</td>\n",
       "      <td>0.000000</td>\n",
       "      <td>0.000000</td>\n",
       "      <td>9.000000</td>\n",
       "      <td>1.000000</td>\n",
       "      <td>0.000000</td>\n",
       "      <td>0.000000</td>\n",
       "      <td>...</td>\n",
       "      <td>0.000000</td>\n",
       "      <td>0.000000</td>\n",
       "      <td>0.000000</td>\n",
       "      <td>0.000000</td>\n",
       "      <td>35.500000</td>\n",
       "      <td>398.550000</td>\n",
       "      <td>0.000000</td>\n",
       "      <td>0.000000</td>\n",
       "      <td>40.000000</td>\n",
       "      <td>3469.000000</td>\n",
       "    </tr>\n",
       "    <tr>\n",
       "      <th>50%</th>\n",
       "      <td>1.0</td>\n",
       "      <td>36.391777</td>\n",
       "      <td>-119.730885</td>\n",
       "      <td>0.000000</td>\n",
       "      <td>0.000000</td>\n",
       "      <td>0.000000</td>\n",
       "      <td>29.000000</td>\n",
       "      <td>1.000000</td>\n",
       "      <td>0.000000</td>\n",
       "      <td>0.000000</td>\n",
       "      <td>...</td>\n",
       "      <td>0.000000</td>\n",
       "      <td>0.000000</td>\n",
       "      <td>0.000000</td>\n",
       "      <td>1.000000</td>\n",
       "      <td>70.350000</td>\n",
       "      <td>1394.550000</td>\n",
       "      <td>0.000000</td>\n",
       "      <td>0.000000</td>\n",
       "      <td>61.000000</td>\n",
       "      <td>4527.000000</td>\n",
       "    </tr>\n",
       "    <tr>\n",
       "      <th>75%</th>\n",
       "      <td>1.0</td>\n",
       "      <td>38.224869</td>\n",
       "      <td>-118.043237</td>\n",
       "      <td>0.000000</td>\n",
       "      <td>1.000000</td>\n",
       "      <td>0.000000</td>\n",
       "      <td>55.000000</td>\n",
       "      <td>1.000000</td>\n",
       "      <td>1.000000</td>\n",
       "      <td>1.000000</td>\n",
       "      <td>...</td>\n",
       "      <td>1.000000</td>\n",
       "      <td>1.000000</td>\n",
       "      <td>1.000000</td>\n",
       "      <td>1.000000</td>\n",
       "      <td>89.850000</td>\n",
       "      <td>3786.600000</td>\n",
       "      <td>1.000000</td>\n",
       "      <td>1.000000</td>\n",
       "      <td>75.000000</td>\n",
       "      <td>5380.500000</td>\n",
       "    </tr>\n",
       "    <tr>\n",
       "      <th>max</th>\n",
       "      <td>1.0</td>\n",
       "      <td>41.962127</td>\n",
       "      <td>-114.192901</td>\n",
       "      <td>1.000000</td>\n",
       "      <td>1.000000</td>\n",
       "      <td>1.000000</td>\n",
       "      <td>72.000000</td>\n",
       "      <td>1.000000</td>\n",
       "      <td>1.000000</td>\n",
       "      <td>1.000000</td>\n",
       "      <td>...</td>\n",
       "      <td>1.000000</td>\n",
       "      <td>1.000000</td>\n",
       "      <td>1.000000</td>\n",
       "      <td>1.000000</td>\n",
       "      <td>118.750000</td>\n",
       "      <td>8684.800000</td>\n",
       "      <td>1.000000</td>\n",
       "      <td>1.000000</td>\n",
       "      <td>100.000000</td>\n",
       "      <td>6500.000000</td>\n",
       "    </tr>\n",
       "  </tbody>\n",
       "</table>\n",
       "<p>8 rows × 22 columns</p>\n",
       "</div>"
      ],
      "text/plain": [
       "        Count     Latitude    Longitude  Senior Citizen      Partner  \\\n",
       "count  7043.0  7043.000000  7043.000000     7043.000000  7043.000000   \n",
       "mean      1.0    36.282441  -119.798880        0.162147     0.483033   \n",
       "std       0.0     2.455723     2.157889        0.368612     0.499748   \n",
       "min       1.0    32.555828  -124.301372        0.000000     0.000000   \n",
       "25%       1.0    34.030915  -121.815412        0.000000     0.000000   \n",
       "50%       1.0    36.391777  -119.730885        0.000000     0.000000   \n",
       "75%       1.0    38.224869  -118.043237        0.000000     1.000000   \n",
       "max       1.0    41.962127  -114.192901        1.000000     1.000000   \n",
       "\n",
       "        Dependents  Tenure Months  Phone Service  Multiple Lines  \\\n",
       "count  7043.000000    7043.000000    7043.000000     7043.000000   \n",
       "mean      0.231010      32.371149       0.903166        0.325004   \n",
       "std       0.421508      24.559481       0.295752        0.642730   \n",
       "min       0.000000       0.000000       0.000000       -1.000000   \n",
       "25%       0.000000       9.000000       1.000000        0.000000   \n",
       "50%       0.000000      29.000000       1.000000        0.000000   \n",
       "75%       0.000000      55.000000       1.000000        1.000000   \n",
       "max       1.000000      72.000000       1.000000        1.000000   \n",
       "\n",
       "       Online Security  ...  Tech Support  Streaming TV  Streaming Movies  \\\n",
       "count      7043.000000  ...   7043.000000   7043.000000       7043.000000   \n",
       "mean          0.069999  ...      0.073548      0.167684          0.171234   \n",
       "std           0.706051  ...      0.708201      0.756958          0.758507   \n",
       "min          -1.000000  ...     -1.000000     -1.000000         -1.000000   \n",
       "25%           0.000000  ...      0.000000      0.000000          0.000000   \n",
       "50%           0.000000  ...      0.000000      0.000000          0.000000   \n",
       "75%           1.000000  ...      1.000000      1.000000          1.000000   \n",
       "max           1.000000  ...      1.000000      1.000000          1.000000   \n",
       "\n",
       "       Paperless Billing  Monthly Charges  Total Charges  Churn Label  \\\n",
       "count        7043.000000      7043.000000    7043.000000  7043.000000   \n",
       "mean            0.592219        64.761692    2279.734304     0.265370   \n",
       "std             0.491457        30.090047    2266.794470     0.441561   \n",
       "min             0.000000        18.250000       0.000000     0.000000   \n",
       "25%             0.000000        35.500000     398.550000     0.000000   \n",
       "50%             1.000000        70.350000    1394.550000     0.000000   \n",
       "75%             1.000000        89.850000    3786.600000     1.000000   \n",
       "max             1.000000       118.750000    8684.800000     1.000000   \n",
       "\n",
       "       Churn Value  Churn Score         CLTV  \n",
       "count  7043.000000  7043.000000  7043.000000  \n",
       "mean      0.265370    58.699418  4400.295755  \n",
       "std       0.441561    21.525131  1183.057152  \n",
       "min       0.000000     5.000000  2003.000000  \n",
       "25%       0.000000    40.000000  3469.000000  \n",
       "50%       0.000000    61.000000  4527.000000  \n",
       "75%       1.000000    75.000000  5380.500000  \n",
       "max       1.000000   100.000000  6500.000000  \n",
       "\n",
       "[8 rows x 22 columns]"
      ]
     },
     "execution_count": 16,
     "metadata": {},
     "output_type": "execute_result"
    }
   ],
   "source": [
    "data_encoded_large.describe()"
   ]
  },
  {
   "cell_type": "code",
   "execution_count": 17,
   "metadata": {},
   "outputs": [],
   "source": [
    "# Define the feature matrix (X) and the target vector (y)\n",
    "X = data_encoded_large.drop(columns=[\n",
    "     'Churn Label', \n",
    "     'Churn Value',\n",
    "     'Churn Score',\n",
    "     'CLTV',\n",
    "     'Churn Reason',\n",
    "     ])\n",
    "y = data_encoded_large['Churn Value']"
   ]
  },
  {
   "cell_type": "code",
   "execution_count": 18,
   "metadata": {},
   "outputs": [
    {
     "name": "stdout",
     "output_type": "stream",
     "text": [
      "Count                                       int64\n",
      "Latitude                                  float64\n",
      "Longitude                                 float64\n",
      "Senior Citizen                              int64\n",
      "Partner                                     int64\n",
      "Dependents                                  int64\n",
      "Tenure Months                               int64\n",
      "Phone Service                               int64\n",
      "Multiple Lines                              int64\n",
      "Online Security                             int64\n",
      "Online Backup                               int64\n",
      "Device Protection                           int64\n",
      "Tech Support                                int64\n",
      "Streaming TV                                int64\n",
      "Streaming Movies                            int64\n",
      "Paperless Billing                           int64\n",
      "Monthly Charges                           float64\n",
      "Total Charges                             float64\n",
      "Gender_Male                                  bool\n",
      "Contract_One year                            bool\n",
      "Contract_Two year                            bool\n",
      "Payment Method_Credit card (automatic)       bool\n",
      "Payment Method_Electronic check              bool\n",
      "Payment Method_Mailed check                  bool\n",
      "Internet Service_Fiber optic                 bool\n",
      "Internet Service_No                          bool\n",
      "dtype: object\n"
     ]
    }
   ],
   "source": [
    "# list all of the X feature types to verify that they are all numeric\n",
    "print(X.dtypes)"
   ]
  },
  {
   "cell_type": "markdown",
   "metadata": {},
   "source": [
    "# Baseline Model"
   ]
  },
  {
   "cell_type": "code",
   "execution_count": 19,
   "metadata": {},
   "outputs": [],
   "source": [
    "# Split the data into training and testing sets\n",
    "X_train, X_test, y_train, y_test = train_test_split(X, y, test_size=0.2, random_state=42)"
   ]
  },
  {
   "cell_type": "code",
   "execution_count": 27,
   "metadata": {},
   "outputs": [],
   "source": [
    "def fit_predict_evaluate(model, X_train, y_train, X_test, y_test):\n",
    "    # Fit the model\n",
    "    model.fit(X_train, y_train)\n",
    "\n",
    "    # Predict the target vector\n",
    "    y_pred = model.predict(X_test)\n",
    "\n",
    "    # Evaluate the model\n",
    "    print(f'Accuracy: {accuracy_score(y_test, y_pred)}')\n",
    "    print(f'Confusion Matrix:\\n{confusion_matrix(y_test, y_pred)}')\n",
    "    print(f'Classification Report:\\n{classification_report(y_test, y_pred)}')"
   ]
  },
  {
   "cell_type": "markdown",
   "metadata": {},
   "source": [
    "## Logistic Regression"
   ]
  },
  {
   "cell_type": "code",
   "execution_count": 20,
   "metadata": {},
   "outputs": [
    {
     "name": "stdout",
     "output_type": "stream",
     "text": [
      "Accuracy: 0.8019872249822569\n",
      "Confusion Matrix:\n",
      "[[907 102]\n",
      " [177 223]]\n",
      "Classification Report:\n",
      "              precision    recall  f1-score   support\n",
      "\n",
      "           0       0.84      0.90      0.87      1009\n",
      "           1       0.69      0.56      0.62       400\n",
      "\n",
      "    accuracy                           0.80      1409\n",
      "   macro avg       0.76      0.73      0.74      1409\n",
      "weighted avg       0.79      0.80      0.80      1409\n",
      "\n"
     ]
    }
   ],
   "source": [
    "model = LogisticRegression(max_iter=1000)\n",
    "fit_predict_evaluate(model, X_train, y_train, X_test, y_test)"
   ]
  },
  {
   "cell_type": "markdown",
   "metadata": {},
   "source": [
    "## XGBoost"
   ]
  },
  {
   "cell_type": "code",
   "execution_count": 21,
   "metadata": {},
   "outputs": [
    {
     "name": "stdout",
     "output_type": "stream",
     "text": [
      "Accuracy: 0.7856635911994322\n",
      "Confusion Matrix:\n",
      "[[894 115]\n",
      " [187 213]]\n",
      "Classification Report:\n",
      "              precision    recall  f1-score   support\n",
      "\n",
      "           0       0.83      0.89      0.86      1009\n",
      "           1       0.65      0.53      0.59       400\n",
      "\n",
      "    accuracy                           0.79      1409\n",
      "   macro avg       0.74      0.71      0.72      1409\n",
      "weighted avg       0.78      0.79      0.78      1409\n",
      "\n"
     ]
    }
   ],
   "source": [
    "model = XGBClassifier()\n",
    "fit_predict_evaluate(model, X_train, y_train, X_test, y_test)"
   ]
  },
  {
   "cell_type": "code",
   "execution_count": 22,
   "metadata": {},
   "outputs": [
    {
     "name": "stdout",
     "output_type": "stream",
     "text": [
      "Accuracy: 0.8005677785663591\n",
      "Confusion Matrix:\n",
      "[[914  95]\n",
      " [186 214]]\n",
      "Classification Report:\n",
      "              precision    recall  f1-score   support\n",
      "\n",
      "           0       0.83      0.91      0.87      1009\n",
      "           1       0.69      0.54      0.60       400\n",
      "\n",
      "    accuracy                           0.80      1409\n",
      "   macro avg       0.76      0.72      0.74      1409\n",
      "weighted avg       0.79      0.80      0.79      1409\n",
      "\n"
     ]
    }
   ],
   "source": [
    "# Try Random Forest\n",
    "model = RandomForestClassifier()\n",
    "fit_predict_evaluate(model, X_train, y_train, X_test, y_test)"
   ]
  },
  {
   "cell_type": "markdown",
   "metadata": {},
   "source": [
    "## XGBoost hyperparameter"
   ]
  },
  {
   "cell_type": "code",
   "execution_count": 24,
   "metadata": {},
   "outputs": [
    {
     "name": "stdout",
     "output_type": "stream",
     "text": [
      "Best parameters: {'learning_rate': 0.1, 'max_depth': 3, 'n_estimators': 100}\n",
      "Accuracy: 0.8005677785663591\n",
      "Confusion Matrix:\n",
      "[[914  95]\n",
      " [186 214]]\n",
      "Classification Report:\n",
      "              precision    recall  f1-score   support\n",
      "\n",
      "           0       0.83      0.91      0.87      1009\n",
      "           1       0.69      0.54      0.60       400\n",
      "\n",
      "    accuracy                           0.80      1409\n",
      "   macro avg       0.76      0.72      0.74      1409\n",
      "weighted avg       0.79      0.80      0.79      1409\n",
      "\n"
     ]
    }
   ],
   "source": [
    "from sklearn.model_selection import GridSearchCV\n",
    "\n",
    "# Define the parameter grid\n",
    "param_grid = {\n",
    "    'learning_rate': [0.1, 0.01, 0.001],\n",
    "    'max_depth': [3, 5, 7, 10],\n",
    "    'n_estimators': [100, 200, 500],\n",
    "    # 'tree_method': ['gpu_hist']  # Use GPU accelerated algorithm\n",
    "}\n",
    "\n",
    "# Initialize the XGBoost classifier\n",
    "model = XGBClassifier()\n",
    "\n",
    "# Initialize the GridSearchCV\n",
    "grid_search = GridSearchCV(estimator=model, param_grid=param_grid, cv=3, scoring='f1_macro')\n",
    "\n",
    "# Fit the data to the GridSearchCV\n",
    "grid_search.fit(X_train, y_train)\n",
    "\n",
    "# Get the best parameters\n",
    "best_params = grid_search.best_params_\n",
    "\n",
    "print(f'Best parameters: {best_params}')\n",
    "# Best parameters: {'learning_rate': 0.1, 'max_depth': 3, 'n_estimators': 100}\n",
    "best_params = {'learning_rate': 0.1, 'max_depth': 3, 'n_estimators': 100}\n",
    "\n",
    "# Initialize the XGBoost classifier with the best parameters\n",
    "model = XGBClassifier(**best_params)\n",
    "\n",
    "fit_predict_evaluate(model, X_train, y_train, X_test, y_test)"
   ]
  },
  {
   "cell_type": "markdown",
   "metadata": {},
   "source": [
    "## Random forest hyper parameter"
   ]
  },
  {
   "cell_type": "code",
   "execution_count": 25,
   "metadata": {},
   "outputs": [
    {
     "name": "stdout",
     "output_type": "stream",
     "text": [
      "Fitting 3 folds for each of 864 candidates, totalling 2592 fits\n"
     ]
    },
    {
     "name": "stderr",
     "output_type": "stream",
     "text": [
      "C:\\Users\\paula\\AppData\\Roaming\\Python\\Python39\\site-packages\\sklearn\\model_selection\\_validation.py:425: FitFailedWarning: \n",
      "1296 fits failed out of a total of 2592.\n",
      "The score on these train-test partitions for these parameters will be set to nan.\n",
      "If these failures are not expected, you can try to debug them by setting error_score='raise'.\n",
      "\n",
      "Below are more details about the failures:\n",
      "--------------------------------------------------------------------------------\n",
      "560 fits failed with the following error:\n",
      "Traceback (most recent call last):\n",
      "  File \"C:\\Users\\paula\\AppData\\Roaming\\Python\\Python39\\site-packages\\sklearn\\model_selection\\_validation.py\", line 729, in _fit_and_score\n",
      "    estimator.fit(X_train, y_train, **fit_params)\n",
      "  File \"C:\\Users\\paula\\AppData\\Roaming\\Python\\Python39\\site-packages\\sklearn\\base.py\", line 1145, in wrapper\n",
      "    estimator._validate_params()\n",
      "  File \"C:\\Users\\paula\\AppData\\Roaming\\Python\\Python39\\site-packages\\sklearn\\base.py\", line 638, in _validate_params\n",
      "    validate_parameter_constraints(\n",
      "  File \"C:\\Users\\paula\\AppData\\Roaming\\Python\\Python39\\site-packages\\sklearn\\utils\\_param_validation.py\", line 96, in validate_parameter_constraints\n",
      "    raise InvalidParameterError(\n",
      "sklearn.utils._param_validation.InvalidParameterError: The 'max_features' parameter of RandomForestClassifier must be an int in the range [1, inf), a float in the range (0.0, 1.0], a str among {'log2', 'sqrt'} or None. Got 'auto' instead.\n",
      "\n",
      "--------------------------------------------------------------------------------\n",
      "736 fits failed with the following error:\n",
      "Traceback (most recent call last):\n",
      "  File \"C:\\Users\\paula\\AppData\\Roaming\\Python\\Python39\\site-packages\\sklearn\\model_selection\\_validation.py\", line 729, in _fit_and_score\n",
      "    estimator.fit(X_train, y_train, **fit_params)\n",
      "  File \"C:\\Users\\paula\\AppData\\Roaming\\Python\\Python39\\site-packages\\sklearn\\base.py\", line 1145, in wrapper\n",
      "    estimator._validate_params()\n",
      "  File \"C:\\Users\\paula\\AppData\\Roaming\\Python\\Python39\\site-packages\\sklearn\\base.py\", line 638, in _validate_params\n",
      "    validate_parameter_constraints(\n",
      "  File \"C:\\Users\\paula\\AppData\\Roaming\\Python\\Python39\\site-packages\\sklearn\\utils\\_param_validation.py\", line 96, in validate_parameter_constraints\n",
      "    raise InvalidParameterError(\n",
      "sklearn.utils._param_validation.InvalidParameterError: The 'max_features' parameter of RandomForestClassifier must be an int in the range [1, inf), a float in the range (0.0, 1.0], a str among {'sqrt', 'log2'} or None. Got 'auto' instead.\n",
      "\n",
      "  warnings.warn(some_fits_failed_message, FitFailedWarning)\n",
      "C:\\Users\\paula\\AppData\\Roaming\\Python\\Python39\\site-packages\\sklearn\\model_selection\\_search.py:979: UserWarning: One or more of the test scores are non-finite: [       nan        nan        nan        nan        nan        nan\n",
      "        nan        nan        nan        nan        nan        nan\n",
      "        nan        nan        nan        nan        nan        nan\n",
      "        nan        nan        nan        nan        nan        nan\n",
      "        nan        nan        nan        nan        nan        nan\n",
      "        nan        nan        nan        nan        nan        nan\n",
      " 0.71988064 0.72303138 0.72559955 0.72461722 0.72419055 0.7208122\n",
      " 0.72671389 0.72352196 0.72115637 0.72277357 0.72380703 0.72199204\n",
      " 0.72285673 0.72429912 0.72373298 0.72189423 0.72339725 0.72336869\n",
      " 0.72253028 0.72443427 0.7208668  0.72259854 0.71937249 0.72209948\n",
      " 0.7262785  0.72460529 0.72269723 0.72366401 0.72415424 0.71939279\n",
      " 0.72240486 0.72373294 0.72297784 0.72122592 0.7231787  0.72167992\n",
      "        nan        nan        nan        nan        nan        nan\n",
      "        nan        nan        nan        nan        nan        nan\n",
      "        nan        nan        nan        nan        nan        nan\n",
      "        nan        nan        nan        nan        nan        nan\n",
      "        nan        nan        nan        nan        nan        nan\n",
      "        nan        nan        nan        nan        nan        nan\n",
      " 0.71424088 0.71705088 0.71615264 0.71704199 0.71835695 0.7231334\n",
      " 0.72181487 0.72046932 0.7207101  0.72318327 0.72227934 0.72110223\n",
      " 0.72089095 0.71802933 0.72034231 0.72098759 0.72473525 0.71967653\n",
      " 0.72036275 0.72165049 0.72072644 0.72195857 0.72179959 0.72163658\n",
      " 0.72158801 0.72561269 0.72307262 0.72129016 0.7222924  0.72344943\n",
      " 0.72231504 0.72414791 0.72107137 0.72315127 0.72496956 0.72333756\n",
      "        nan        nan        nan        nan        nan        nan\n",
      "        nan        nan        nan        nan        nan        nan\n",
      "        nan        nan        nan        nan        nan        nan\n",
      "        nan        nan        nan        nan        nan        nan\n",
      "        nan        nan        nan        nan        nan        nan\n",
      "        nan        nan        nan        nan        nan        nan\n",
      " 0.71748536 0.71643851 0.7180555  0.71807944 0.72225111 0.71923673\n",
      " 0.72133189 0.72132498 0.71945192 0.71961467 0.7226242  0.72145931\n",
      " 0.72208314 0.71866249 0.72162761 0.71976322 0.72173926 0.71946839\n",
      " 0.72233781 0.72232027 0.72003956 0.72082475 0.7220889  0.72290213\n",
      " 0.72225177 0.72154292 0.72492856 0.72397524 0.72049412 0.72164191\n",
      " 0.72099179 0.72133872 0.72205873 0.72416945 0.72126387 0.72265862\n",
      "        nan        nan        nan        nan        nan        nan\n",
      "        nan        nan        nan        nan        nan        nan\n",
      "        nan        nan        nan        nan        nan        nan\n",
      "        nan        nan        nan        nan        nan        nan\n",
      "        nan        nan        nan        nan        nan        nan\n",
      "        nan        nan        nan        nan        nan        nan\n",
      " 0.71340213 0.71959436 0.71775274 0.71870849 0.72018718 0.7228648\n",
      " 0.72172069 0.72054976 0.71846326 0.72259944 0.71957731 0.72105857\n",
      " 0.71958517 0.72634859 0.72070617 0.72180938 0.71923334 0.72042354\n",
      " 0.72223204 0.72139016 0.72362533 0.72227793 0.72126154 0.72190024\n",
      " 0.72117155 0.72165976 0.72420865 0.72315581 0.72189918 0.72067248\n",
      " 0.72132511 0.72245754 0.72486052 0.72246301 0.72270245 0.72350069\n",
      "        nan        nan        nan        nan        nan        nan\n",
      "        nan        nan        nan        nan        nan        nan\n",
      "        nan        nan        nan        nan        nan        nan\n",
      "        nan        nan        nan        nan        nan        nan\n",
      "        nan        nan        nan        nan        nan        nan\n",
      "        nan        nan        nan        nan        nan        nan\n",
      " 0.71165166 0.71638244 0.71726587 0.71839891 0.7191653  0.71780357\n",
      " 0.72036164 0.72326176 0.72068826 0.72223562 0.72333271 0.72255906\n",
      " 0.71900887 0.72290306 0.72073746 0.71855267 0.7192043  0.72123162\n",
      " 0.72026905 0.71960323 0.72500928 0.72123395 0.72172719 0.72149368\n",
      " 0.71887847 0.72429303 0.72079546 0.72293532 0.722027   0.7238026\n",
      " 0.72116283 0.72374096 0.72374603 0.72440003 0.72281787 0.72161685\n",
      "        nan        nan        nan        nan        nan        nan\n",
      "        nan        nan        nan        nan        nan        nan\n",
      "        nan        nan        nan        nan        nan        nan\n",
      "        nan        nan        nan        nan        nan        nan\n",
      "        nan        nan        nan        nan        nan        nan\n",
      "        nan        nan        nan        nan        nan        nan\n",
      " 0.71084635 0.71464666 0.72028644 0.71558817 0.72158308 0.71712605\n",
      " 0.72078164 0.71820516 0.72173386 0.72119304 0.71930435 0.72294333\n",
      " 0.71995305 0.71945962 0.72049104 0.71938521 0.72112151 0.72373913\n",
      " 0.71989434 0.72270265 0.72474858 0.7206298  0.72257368 0.72342835\n",
      " 0.72208351 0.72313298 0.72279716 0.72325081 0.71990378 0.72271532\n",
      " 0.7260934  0.72459137 0.72083015 0.72440853 0.72260948 0.7238082\n",
      "        nan        nan        nan        nan        nan        nan\n",
      "        nan        nan        nan        nan        nan        nan\n",
      "        nan        nan        nan        nan        nan        nan\n",
      "        nan        nan        nan        nan        nan        nan\n",
      "        nan        nan        nan        nan        nan        nan\n",
      "        nan        nan        nan        nan        nan        nan\n",
      " 0.72245571 0.72300032 0.72619903 0.72278168 0.72465349 0.7220839\n",
      " 0.72385613 0.72385363 0.72319328 0.72332993 0.72312054 0.72490655\n",
      " 0.7222925  0.72294853 0.7258847  0.72510559 0.72447418 0.72278618\n",
      " 0.72270708 0.72410494 0.72649466 0.72386815 0.72483485 0.72292087\n",
      " 0.72427022 0.72369196 0.72484427 0.72313319 0.72193179 0.72203879\n",
      " 0.72180107 0.72599073 0.72399511 0.72660642 0.72393327 0.7255212\n",
      "        nan        nan        nan        nan        nan        nan\n",
      "        nan        nan        nan        nan        nan        nan\n",
      "        nan        nan        nan        nan        nan        nan\n",
      "        nan        nan        nan        nan        nan        nan\n",
      "        nan        nan        nan        nan        nan        nan\n",
      "        nan        nan        nan        nan        nan        nan\n",
      " 0.71170344 0.71318197 0.7095129  0.70989861 0.70800978 0.71204951\n",
      " 0.71310018 0.7128641  0.71959257 0.71842768 0.71899634 0.71888242\n",
      " 0.71118711 0.71779602 0.71307474 0.71581731 0.71489528 0.71860168\n",
      " 0.71980786 0.71516242 0.71812238 0.71962021 0.72200856 0.71867323\n",
      " 0.7211598  0.72313412 0.7188021  0.72061128 0.71808078 0.72229945\n",
      " 0.72455306 0.72200053 0.71715644 0.72111944 0.72224161 0.72213906\n",
      "        nan        nan        nan        nan        nan        nan\n",
      "        nan        nan        nan        nan        nan        nan\n",
      "        nan        nan        nan        nan        nan        nan\n",
      "        nan        nan        nan        nan        nan        nan\n",
      "        nan        nan        nan        nan        nan        nan\n",
      "        nan        nan        nan        nan        nan        nan\n",
      " 0.71662579 0.70743641 0.70950328 0.70713013 0.71073329 0.71091509\n",
      " 0.71222391 0.71188482 0.71718271 0.71949433 0.71853271 0.71889872\n",
      " 0.71489041 0.71599287 0.71681981 0.71482923 0.71296627 0.71723521\n",
      " 0.7145035  0.71489236 0.71859524 0.71858103 0.72073396 0.71957652\n",
      " 0.71978775 0.71909021 0.71753191 0.72033974 0.71950348 0.72326613\n",
      " 0.72187576 0.72248392 0.7183271  0.72277308 0.72151291 0.7194927\n",
      "        nan        nan        nan        nan        nan        nan\n",
      "        nan        nan        nan        nan        nan        nan\n",
      "        nan        nan        nan        nan        nan        nan\n",
      "        nan        nan        nan        nan        nan        nan\n",
      "        nan        nan        nan        nan        nan        nan\n",
      "        nan        nan        nan        nan        nan        nan\n",
      " 0.71265561 0.71173945 0.71174003 0.71117556 0.71331628 0.71681577\n",
      " 0.71422125 0.71538317 0.71910924 0.71709688 0.71854592 0.71903931\n",
      " 0.71677985 0.71664779 0.71511876 0.715169   0.71973995 0.71316122\n",
      " 0.71536369 0.71751456 0.71870316 0.71832972 0.72119772 0.71955284\n",
      " 0.7148005  0.71663209 0.72166528 0.72044612 0.71785016 0.71981953\n",
      " 0.72030864 0.72045349 0.71784511 0.72348474 0.72530666 0.72121453\n",
      "        nan        nan        nan        nan        nan        nan\n",
      "        nan        nan        nan        nan        nan        nan\n",
      "        nan        nan        nan        nan        nan        nan\n",
      "        nan        nan        nan        nan        nan        nan\n",
      "        nan        nan        nan        nan        nan        nan\n",
      "        nan        nan        nan        nan        nan        nan\n",
      " 0.71109851 0.70757572 0.71237944 0.71166896 0.71623515 0.7122668\n",
      " 0.71460031 0.7124044  0.71603246 0.72052688 0.71894382 0.71822836\n",
      " 0.71538461 0.71798039 0.71936177 0.71734077 0.71751936 0.71720342\n",
      " 0.71583037 0.71837819 0.71872017 0.7219859  0.71920529 0.71959133\n",
      " 0.71831319 0.72416839 0.72382394 0.72148196 0.72137783 0.72411278\n",
      " 0.72079544 0.72263794 0.722442   0.72111106 0.71908087 0.72043145\n",
      "        nan        nan        nan        nan        nan        nan\n",
      "        nan        nan        nan        nan        nan        nan\n",
      "        nan        nan        nan        nan        nan        nan\n",
      "        nan        nan        nan        nan        nan        nan\n",
      "        nan        nan        nan        nan        nan        nan\n",
      "        nan        nan        nan        nan        nan        nan\n",
      " 0.70913735 0.70865185 0.70969279 0.70932254 0.71423581 0.71736926\n",
      " 0.71193987 0.71442467 0.71841967 0.71832667 0.71635682 0.71819717\n",
      " 0.71667578 0.71585527 0.7161623  0.71651183 0.71786774 0.71319536\n",
      " 0.71363724 0.71647348 0.71977561 0.71970485 0.7197261  0.72089013\n",
      " 0.72032963 0.71913565 0.72141892 0.72246116 0.71684095 0.72192341\n",
      " 0.72264904 0.72113477 0.72056199 0.7227579  0.72277639 0.72169559]\n",
      "  warnings.warn(\n"
     ]
    },
    {
     "name": "stdout",
     "output_type": "stream",
     "text": [
      "Best parameters: {'bootstrap': True, 'max_depth': 10, 'max_features': 'sqrt', 'min_samples_leaf': 1, 'min_samples_split': 5, 'n_estimators': 500}\n",
      "Accuracy: 0.8069552874378992\n",
      "Confusion Matrix:\n",
      "[[919  90]\n",
      " [182 218]]\n",
      "Classification Report:\n",
      "              precision    recall  f1-score   support\n",
      "\n",
      "           0       0.83      0.91      0.87      1009\n",
      "           1       0.71      0.55      0.62       400\n",
      "\n",
      "    accuracy                           0.81      1409\n",
      "   macro avg       0.77      0.73      0.74      1409\n",
      "weighted avg       0.80      0.81      0.80      1409\n",
      "\n"
     ]
    }
   ],
   "source": [
    "# Define the parameter grid\n",
    "param_grid = {\n",
    "    'n_estimators': [100, 200, 500, 1000],\n",
    "    'max_features': ['auto', 'sqrt'],\n",
    "    'max_depth': [10, 20, 30, 40, 50, None],\n",
    "    'min_samples_split': [2, 5, 10],\n",
    "    'min_samples_leaf': [1, 2, 4],\n",
    "    'bootstrap': [True, False]\n",
    "}\n",
    "\n",
    "# Initialize the RandomForestClassifier\n",
    "model = RandomForestClassifier()\n",
    "\n",
    "# Initialize the GridSearchCV\n",
    "grid_search = GridSearchCV(estimator=model, param_grid=param_grid, cv=3, scoring='f1_macro', n_jobs=-1, verbose=2)\n",
    "\n",
    "# Fit the data to the GridSearchCV\n",
    "grid_search.fit(X_train, y_train)\n",
    "\n",
    "# Get the best parameters\n",
    "best_params = grid_search.best_params_\n",
    "\n",
    "print(f'Best parameters: {best_params}')\n",
    "\n",
    "# Best parameters: {'bootstrap': True, 'max_depth': 10, 'max_features': 'sqrt', 'min_samples_leaf': 1, 'min_samples_split': 5, 'n_estimators': 500}\n",
    "best_params = {'bootstrap': True, 'max_depth': 10, 'max_features': 'sqrt', 'min_samples_leaf': 1, 'min_samples_split': 5, 'n_estimators': 500}\n",
    "\n",
    "# Initialize the RandomForestClassifier with the best parameters\n",
    "model = RandomForestClassifier(**best_params)\n",
    "\n",
    "fit_predict_evaluate(model, X_train, y_train, X_test, y_test)"
   ]
  },
  {
   "cell_type": "markdown",
   "metadata": {},
   "source": [
    "# Best Model\n",
    "\n",
    "Use Synthetic Minority Oversampling Technique to accound for imbalanced dataset"
   ]
  },
  {
   "cell_type": "code",
   "execution_count": 28,
   "metadata": {},
   "outputs": [
    {
     "name": "stdout",
     "output_type": "stream",
     "text": [
      "Accuracy: 0.7877927608232789\n",
      "Confusion Matrix:\n",
      "[[822 187]\n",
      " [112 288]]\n",
      "Classification Report:\n",
      "              precision    recall  f1-score   support\n",
      "\n",
      "           0       0.88      0.81      0.85      1009\n",
      "           1       0.61      0.72      0.66       400\n",
      "\n",
      "    accuracy                           0.79      1409\n",
      "   macro avg       0.74      0.77      0.75      1409\n",
      "weighted avg       0.80      0.79      0.79      1409\n",
      "\n"
     ]
    }
   ],
   "source": [
    "# Try smote\n",
    "from imblearn.over_sampling import SMOTE\n",
    "smote = SMOTE(random_state=42)\n",
    "X_train_smote, y_train_smote = smote.fit_resample(X_train, y_train)\n",
    "\n",
    "model = RandomForestClassifier(**best_params)\n",
    "fit_predict_evaluate(model, X_train_smote, y_train_smote, X_test, y_test)"
   ]
  }
 ],
 "metadata": {
  "kernelspec": {
   "display_name": "base",
   "language": "python",
   "name": "python3"
  },
  "language_info": {
   "codemirror_mode": {
    "name": "ipython",
    "version": 3
   },
   "file_extension": ".py",
   "mimetype": "text/x-python",
   "name": "python",
   "nbconvert_exporter": "python",
   "pygments_lexer": "ipython3",
   "version": "3.9.18"
  }
 },
 "nbformat": 4,
 "nbformat_minor": 2
}
