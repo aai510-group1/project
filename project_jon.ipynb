{
  "nbformat": 4,
  "nbformat_minor": 0,
  "metadata": {
    "colab": {
      "private_outputs": true,
      "provenance": [],
      "machine_shape": "hm",
      "gpuType": "V28",
      "mount_file_id": "1P5yu3WI5-BcgoUaVktN3wA2DJqqMRGyK",
      "authorship_tag": "ABX9TyN4ZI0yGIOb8e6zJXNSXTMP",
      "include_colab_link": true
    },
    "kernelspec": {
      "name": "python3",
      "display_name": "Python 3"
    },
    "language_info": {
      "name": "python"
    },
    "accelerator": "TPU"
  },
  "cells": [
    {
      "cell_type": "markdown",
      "metadata": {
        "id": "view-in-github",
        "colab_type": "text"
      },
      "source": [
        "<a href=\"https://colab.research.google.com/github/aai510-group1/project/blob/main/project_jon.ipynb\" target=\"_parent\"><img src=\"https://colab.research.google.com/assets/colab-badge.svg\" alt=\"Open In Colab\"/></a>"
      ]
    },
    {
      "cell_type": "code",
      "source": [
        "!apt-get install -qqq --no-install-recommends graphviz libgraphviz-dev\n",
        "\n",
        "# USE uv FOR FASTER PIP INSTALLS\n",
        "%pip install --quiet --progress-bar=off uv\n",
        "\n",
        "# INSTALL DEPENDENCIES\n",
        "!uv pip uninstall --system --quiet bokeh mkl\n",
        "!uv pip install --system --quiet --upgrade pip\n",
        "!uv pip install --system --quiet --upgrade black[jupyter] bokeh datasets isort pygraphviz setuptools wheel\n",
        "!uv pip install --system --quiet autogluon numpy==1.24.4 shap"
      ],
      "metadata": {
        "id": "Wa8eBQ7E9Y5i"
      },
      "execution_count": null,
      "outputs": []
    },
    {
      "cell_type": "code",
      "source": [
        "# @title Create a Folder in Google Drive and Enable Top-Level Access in the File Browser { display-mode: \"form\" }\n",
        "def setup_drive_folder(google_drive_folder):\n",
        "    import contextlib, google.colab, os, pathlib\n",
        "    if not google_drive_folder:\n",
        "        google_drive_folder = \"temp\"\n",
        "    with contextlib.redirect_stdout(open(os.devnull, 'w')):\n",
        "        google.colab.drive.mount(\"/content/drive\", force_remount=True)\n",
        "    drive_path = pathlib.Path(\"/content/drive/MyDrive\")\n",
        "    colab_notebooks_path = drive_path / \"Colab Notebooks\"\n",
        "    project_path = colab_notebooks_path / google_drive_folder\n",
        "    project_path.mkdir(parents=True, exist_ok=True)\n",
        "    shortcut = pathlib.Path(f\"/content/{google_drive_folder}\")\n",
        "    shortcut.parent.mkdir(parents=True, exist_ok=True)\n",
        "    if not shortcut.exists():\n",
        "        shortcut.symlink_to(project_path)\n",
        "    print(f\"SHORTCUT: {shortcut} --> {project_path}\")\n",
        "    return str(shortcut)\n",
        "\n",
        "google_drive_folder = \"aai510-group1\"  # @param { type: \"string\" }\n",
        "SHORTCUT = setup_drive_folder(google_drive_folder)"
      ],
      "metadata": {
        "id": "c3ZVlQE_6jD1"
      },
      "execution_count": null,
      "outputs": []
    },
    {
      "cell_type": "code",
      "source": [
        "# LOAD MERGED TELCO CUSTOMER DATASET\n",
        "from datasets import load_dataset\n",
        "dataset = load_dataset('aai510-group1/telco-customer-churn', token=False)\n",
        "\n",
        "# CONVERT DATASETS TO PANDAS DATAFRAMES\n",
        "df_train = dataset['train'].to_pandas()\n",
        "df_test = dataset['test'].to_pandas()\n",
        "df_val = dataset['validation'].to_pandas()"
      ],
      "metadata": {
        "id": "Z_GYSucEwUHj"
      },
      "execution_count": null,
      "outputs": []
    },
    {
      "cell_type": "code",
      "source": [
        "import os\n",
        "from autogluon.tabular import TabularPredictor\n",
        "\n",
        "TARGET_LABEL = \"Churn\"\n",
        "EVAL_METRIC = \"roc_auc\"\n",
        "DPI = 300\n",
        "PRESETS = [\n",
        "    \"best_quality\",\n",
        "    \"optimize_for_deployment\",\n",
        "]\n",
        "LEAKAGE_FEATURES = [\n",
        "    \"Churn Category\",\n",
        "    \"Churn Reason\",\n",
        "    \"Churn Score\",\n",
        "    \"Customer Status\",\n",
        "]\n",
        "\n",
        "predictor = TabularPredictor(\n",
        "    eval_metric=EVAL_METRIC,\n",
        "    label=TARGET_LABEL,\n",
        "    learner_kwargs={\"ignored_columns\": LEAKAGE_FEATURES},\n",
        "    verbosity=3,\n",
        ").fit(\n",
        "    df_train,\n",
        "    dynamic_stacking=False,\n",
        "    presets=PRESETS,\n",
        "    time_limit=3600,\n",
        "    tuning_data=df_val,\n",
        "    use_bag_holdout=True,\n",
        ")"
      ],
      "metadata": {
        "id": "uxK0S-oQIk4j"
      },
      "execution_count": null,
      "outputs": []
    },
    {
      "cell_type": "code",
      "source": [
        "!cp -r /content/AutogluonModels {SHORTCUT}"
      ],
      "metadata": {
        "id": "o380zpBz7ATy"
      },
      "execution_count": null,
      "outputs": []
    },
    {
      "cell_type": "code",
      "source": [
        "import os\n",
        "import matplotlib.pyplot as plt\n",
        "\n",
        "# SAVE TRAINING SUMMARY\n",
        "results = predictor.fit_summary(verbosity=3)\n",
        "with open(os.path.join(predictor.path, \"fit_summary.txt\"), \"w\") as f:\n",
        "    f.write(str(results))\n",
        "\n",
        "# SAVE ENSEMBLE ARCHITECTURE\n",
        "predictor.plot_ensemble_model()"
      ],
      "metadata": {
        "id": "rL0qv5Oqbaap"
      },
      "execution_count": null,
      "outputs": []
    }
  ]
}